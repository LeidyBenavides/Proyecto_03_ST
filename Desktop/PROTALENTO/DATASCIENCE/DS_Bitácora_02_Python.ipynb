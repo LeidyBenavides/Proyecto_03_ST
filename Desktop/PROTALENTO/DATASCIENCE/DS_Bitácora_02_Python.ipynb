{
  "nbformat": 4,
  "nbformat_minor": 0,
  "metadata": {
    "colab": {
      "name": "DS_Bitácora_02_Python.ipynb",
      "provenance": [],
      "collapsed_sections": []
    },
    "kernelspec": {
      "display_name": "Python 3",
      "language": "python",
      "name": "python3"
    },
    "language_info": {
      "codemirror_mode": {
        "name": "ipython",
        "version": 3
      },
      "file_extension": ".py",
      "mimetype": "text/x-python",
      "name": "python",
      "nbconvert_exporter": "python",
      "pygments_lexer": "ipython3",
      "version": "3.7.6"
    }
  },
  "cells": [
    {
      "cell_type": "markdown",
      "metadata": {
        "id": "aDaMLDnAPBMf"
      },
      "source": [
        "# Introducción a Python\n",
        "\n",
        "En este notebook vamos a recorrer algunos conceptos básicos de programación en general y como los aplicamos con Python. Recomendamos ir haciéndolo con algún recurso que hayan elegido - más adelante te dejamos uno - y con el buscador de Google como su mejor amigo. Existen muchísimos recursos de libre acceso disponibles para ayudarnos, recomendamos https://learnxinyminutes.com/docs/python3/ o los otros mencionados en las bitácoras.\n",
        "\n",
        "\n",
        "**Recomendación**: además de realizar los ejercicios, les sugerimos fuertemente que vayan probando y modificando el código presente en este notebook. La mejor manera de aprender es haciendo, 'romper' el código e intentar entender porque dejó de funcionar. ¡No hay nada irreversible, no tengas miedo! Siempre podés volver a descargar el notebook.\n",
        "\n",
        "## 1. Variables, Tipos de Datos y Operaciones\n",
        "\n",
        "### 1.1 Variables\n",
        "\n",
        "Al crear una variable le estás poniendo un nombre a un objeto. Cada variable debe llevar un nombre a través del cual nos referimos a ella, los nombres deben ser únicos y, en lo posible, ser lo mas explícitos posibles para evitar confusiones. Usando el `=` se asigna un valor a una variable. No es un igual matemático/lógico, puedes pensarlo como una flecha (`<--`) que asigna lo que hay del lado derecho a lo que hay del lado izquierdo. Recordemos algunos ejemplos."
      ]
    },
    {
      "cell_type": "code",
      "metadata": {
        "id": "Ejj7jqb9PBMk",
        "colab": {
          "base_uri": "https://localhost:8080/"
        },
        "outputId": "22006c2b-d98a-42c9-8ea0-7f10bde72596"
      },
      "source": [
        "# Asignamos el valor 3 a una variable que creamos, de nombre x\n",
        "x = 3\n",
        "\n",
        "# Evaluamos e imprimimos en pantalla el resultado\n",
        "print(x)"
      ],
      "execution_count": 3,
      "outputs": [
        {
          "output_type": "stream",
          "text": [
            "3\n"
          ],
          "name": "stdout"
        }
      ]
    },
    {
      "cell_type": "code",
      "metadata": {
        "id": "G0_JnDgrPBMu",
        "colab": {
          "base_uri": "https://localhost:8080/"
        },
        "outputId": "8b28b242-3eee-48ea-cd6b-46f8650adaaa"
      },
      "source": [
        "# Asignamos el valor 15.7 a una nueva variable, de nombre y\n",
        "y = 15.7\n",
        "\n",
        "print(y)"
      ],
      "execution_count": 4,
      "outputs": [
        {
          "output_type": "stream",
          "text": [
            "15.7\n"
          ],
          "name": "stdout"
        }
      ]
    },
    {
      "cell_type": "code",
      "metadata": {
        "id": "1sVjKnS8PBM0",
        "colab": {
          "base_uri": "https://localhost:8080/"
        },
        "outputId": "ae0d6509-0861-4e19-aac3-1839eea332f2"
      },
      "source": [
        "# Podemos definir una nueva variable como la suma de dos anteriores\n",
        "z = x + y\n",
        "\n",
        "print(z)"
      ],
      "execution_count": 5,
      "outputs": [
        {
          "output_type": "stream",
          "text": [
            "18.7\n"
          ],
          "name": "stdout"
        }
      ]
    },
    {
      "cell_type": "markdown",
      "metadata": {
        "id": "rRLxeWdMJvcP"
      },
      "source": [
        "Pero en las variables no necesariamente ponemos números, también podemos poner texto (*strings*)"
      ]
    },
    {
      "cell_type": "code",
      "metadata": {
        "id": "n-OyQw00PBM6",
        "colab": {
          "base_uri": "https://localhost:8080/"
        },
        "outputId": "8336ed45-eda3-400a-82c1-9ef234637e77"
      },
      "source": [
        "# Se peude tambier asignar un valor de texto otra variable\n",
        "un_texto = 'HOLA!'\n",
        "\n",
        "print(un_texto)"
      ],
      "execution_count": 6,
      "outputs": [
        {
          "output_type": "stream",
          "text": [
            "HOLA!\n"
          ],
          "name": "stdout"
        }
      ]
    },
    {
      "cell_type": "markdown",
      "metadata": {
        "id": "Y0t7En_OJvcb"
      },
      "source": [
        "**Probar:** ejecutar la siguiente celda. ¿Cuál es la diferencia?"
      ]
    },
    {
      "cell_type": "code",
      "metadata": {
        "id": "RlzXb8nYJvcd",
        "colab": {
          "base_uri": "https://localhost:8080/"
        },
        "outputId": "03b2efe1-bb2d-4e7b-ac91-3f6ee3b8e6b4"
      },
      "source": [
        "print(un_texto)\n",
        "print('un_texto')"
      ],
      "execution_count": 7,
      "outputs": [
        {
          "output_type": "stream",
          "text": [
            "HOLA!\n",
            "un_texto\n"
          ],
          "name": "stdout"
        }
      ]
    },
    {
      "cell_type": "markdown",
      "metadata": {
        "id": "ScGT3xT4Jvcl"
      },
      "source": [
        "Si queremos, podemos borrar alguna variable que ya no utilizaremos más"
      ]
    },
    {
      "cell_type": "code",
      "metadata": {
        "id": "Dj_DJGDOPBNB",
        "colab": {
          "base_uri": "https://localhost:8080/",
          "height": 185
        },
        "outputId": "26168069-511f-4e1e-80ad-d65f69f29870"
      },
      "source": [
        "del(un_texto)\n",
        "print(un_texto)"
      ],
      "execution_count": 8,
      "outputs": [
        {
          "output_type": "error",
          "ename": "NameError",
          "evalue": "ignored",
          "traceback": [
            "\u001b[0;31m---------------------------------------------------------------------------\u001b[0m",
            "\u001b[0;31mNameError\u001b[0m                                 Traceback (most recent call last)",
            "\u001b[0;32m<ipython-input-8-8fd386dc8d5f>\u001b[0m in \u001b[0;36m<module>\u001b[0;34m()\u001b[0m\n\u001b[1;32m      1\u001b[0m \u001b[0;32mdel\u001b[0m\u001b[0;34m(\u001b[0m\u001b[0mun_texto\u001b[0m\u001b[0;34m)\u001b[0m\u001b[0;34m\u001b[0m\u001b[0;34m\u001b[0m\u001b[0m\n\u001b[0;32m----> 2\u001b[0;31m \u001b[0mprint\u001b[0m\u001b[0;34m(\u001b[0m\u001b[0mun_texto\u001b[0m\u001b[0;34m)\u001b[0m\u001b[0;34m\u001b[0m\u001b[0;34m\u001b[0m\u001b[0m\n\u001b[0m",
            "\u001b[0;31mNameError\u001b[0m: name 'un_texto' is not defined"
          ]
        }
      ]
    },
    {
      "cell_type": "markdown",
      "metadata": {
        "id": "x3UOib9UPBNG"
      },
      "source": [
        "**Nota importante**: al correr esta ultima linea, deben ver un mensaje de error. Los mensajes de error son MUY IMPORTANTES. Nos brindan información muy valiosa cuando nuestro código no funciona. En este caso, nos está avisando que no puede imprimir la variable `un_texto`, ya que la eliminamos y no está definida.\n",
        "\n",
        "Muchas veces, para resolver el error, lo mejor que podemos hacer es googlearlo.¡Notar que en Colab ya nos da la opción de Googlear el error en Stack Overflow!"
      ]
    },
    {
      "cell_type": "markdown",
      "metadata": {
        "id": "520n2L18PBNH"
      },
      "source": [
        "### 1.2 Tipos de Datos\n",
        "Cuando definimos una variable, dependiendo el contenido que le asignamos, la misma será de un determinado tipo. Los tipos de datos más comunes de variables son: `int`,`float`,`string` y `boolean`. Veamos algunos ejemplos de cada tipo."
      ]
    },
    {
      "cell_type": "code",
      "metadata": {
        "id": "5MQYEBApPBNK",
        "colab": {
          "base_uri": "https://localhost:8080/"
        },
        "outputId": "ba59f787-d395-4285-c1e1-3325ecf9f7c3"
      },
      "source": [
        "a = 42\n",
        "print(type(a))"
      ],
      "execution_count": 9,
      "outputs": [
        {
          "output_type": "stream",
          "text": [
            "<class 'int'>\n"
          ],
          "name": "stdout"
        }
      ]
    },
    {
      "cell_type": "code",
      "metadata": {
        "id": "E0g87gVfPBNP",
        "colab": {
          "base_uri": "https://localhost:8080/"
        },
        "outputId": "96418d3c-8a6b-4213-d195-0349675377d8"
      },
      "source": [
        "b = 7.8\n",
        "print(type(b))"
      ],
      "execution_count": 10,
      "outputs": [
        {
          "output_type": "stream",
          "text": [
            "<class 'float'>\n"
          ],
          "name": "stdout"
        }
      ]
    },
    {
      "cell_type": "code",
      "metadata": {
        "id": "6SFdLEFIPBNW",
        "colab": {
          "base_uri": "https://localhost:8080/"
        },
        "outputId": "41f87f5d-9325-473d-a292-0ea8eeebfdee"
      },
      "source": [
        "c = True\n",
        "print(type(c))"
      ],
      "execution_count": 11,
      "outputs": [
        {
          "output_type": "stream",
          "text": [
            "<class 'bool'>\n"
          ],
          "name": "stdout"
        }
      ]
    },
    {
      "cell_type": "code",
      "metadata": {
        "id": "i_cCG-iYPBNb",
        "colab": {
          "base_uri": "https://localhost:8080/"
        },
        "outputId": "bb31b1ec-4fd1-4df9-c42a-42727fdaa2ed"
      },
      "source": [
        "t1 = 'hola'\n",
        "print(type(\"hola\"))\n",
        "\n",
        "t2 = '523'\n",
        "print(type('t2'))"
      ],
      "execution_count": 12,
      "outputs": [
        {
          "output_type": "stream",
          "text": [
            "<class 'str'>\n",
            "<class 'str'>\n"
          ],
          "name": "stdout"
        }
      ]
    },
    {
      "cell_type": "markdown",
      "metadata": {
        "id": "fAiC3ranPBNh"
      },
      "source": [
        "**Nota**: a pesar de ser un número, la variable `t2` es de tipo `string`. Esto se debe a que lo pusimos entre comillas."
      ]
    },
    {
      "cell_type": "code",
      "metadata": {
        "id": "erSdYVqhPBNj",
        "colab": {
          "base_uri": "https://localhost:8080/"
        },
        "outputId": "0ceecd40-b4de-4ed7-a5ce-6fd646c1c91b"
      },
      "source": [
        "# Este es un tipo especial de variable, que se utiliza para simbolizar algo 'vacio'\n",
        "d = None\n",
        "print(type(d))"
      ],
      "execution_count": 13,
      "outputs": [
        {
          "output_type": "stream",
          "text": [
            "<class 'NoneType'>\n"
          ],
          "name": "stdout"
        }
      ]
    },
    {
      "cell_type": "markdown",
      "metadata": {
        "id": "WhJ_nLaCPBNo"
      },
      "source": [
        "Si por algun motivo (ya veremos que esto es algo que suele suceder), uno desea explicitar el tipo de variable y no dejar que python lo asuma por si solo, esto también es posible."
      ]
    },
    {
      "cell_type": "code",
      "metadata": {
        "id": "AvUDAvtpPBNp",
        "colab": {
          "base_uri": "https://localhost:8080/"
        },
        "outputId": "b225e306-2760-4812-a71a-52436f06639b"
      },
      "source": [
        "numero = 45\n",
        "print(type(numero))\n",
        "\n",
        "# Quiero que sea un 'float' y no un int\n",
        "numero = float(45)\n",
        "print(type(numero))\n",
        "\n",
        "# Quiero que sea un 'string' y no un int\n",
        "numero = str(45)\n",
        "print(type(numero))"
      ],
      "execution_count": 16,
      "outputs": [
        {
          "output_type": "stream",
          "text": [
            "<class 'int'>\n",
            "<class 'float'>\n",
            "<class 'str'>\n"
          ],
          "name": "stdout"
        }
      ]
    },
    {
      "cell_type": "code",
      "metadata": {
        "id": "r6B6f_oOPBNv",
        "colab": {
          "base_uri": "https://localhost:8080/"
        },
        "outputId": "12727bbc-7ca2-4ba8-c90d-93135d7c18c9"
      },
      "source": [
        "otro_numero = 45.0\n",
        "print(type(otro_numero))\n",
        "\n",
        "# Quiero que sea un 'int' y no un 'float'\n",
        "otro_numero = int(45.0)\n",
        "print(type(otro_numero))"
      ],
      "execution_count": 17,
      "outputs": [
        {
          "output_type": "stream",
          "text": [
            "<class 'float'>\n",
            "<class 'int'>\n"
          ],
          "name": "stdout"
        }
      ]
    },
    {
      "cell_type": "markdown",
      "metadata": {
        "id": "4EMswXwbPjLD"
      },
      "source": [
        "**Ejercicio**: Cambiar el tipo de la variable 'numero' a float."
      ]
    },
    {
      "cell_type": "code",
      "metadata": {
        "id": "g6o0UHSbPuZu",
        "colab": {
          "base_uri": "https://localhost:8080/"
        },
        "outputId": "ca8b960f-30f6-445a-d6dc-38392e22f938"
      },
      "source": [
        "numero = '5'\n",
        "numero = float('5')\n",
        "\n",
        "# La siguientes lineas de codigo chequean si hiciste correctamente el ejercicio\n",
        "# No importa si no entiendes qué hace.\n",
        "if type(numero) is float:\n",
        "    print('Correcto!')\n",
        "else:\n",
        "    print('Convierte la variable a tipo float')"
      ],
      "execution_count": 24,
      "outputs": [
        {
          "output_type": "stream",
          "text": [
            "Correcto!\n"
          ],
          "name": "stdout"
        }
      ]
    },
    {
      "cell_type": "markdown",
      "metadata": {
        "id": "Zip2yREWPBN0"
      },
      "source": [
        "### 1.3 Operaciones\n",
        "Con las variables que definimos, podemos realizar distintas operaciones. Dependiendo el tipo de variable, hay diferentes operaciones diponibles. En este notebook veremos operaciones con números - `int` y `float`; más adelante veremos operaciones con texto.\n",
        "\n",
        "#### 1.3.1 Operaciones con números\n",
        "\n",
        "Se pueden realizar las operaciones basicas entre numeros\n"
      ]
    },
    {
      "cell_type": "code",
      "metadata": {
        "id": "QbeN4rjGPBN2",
        "colab": {
          "base_uri": "https://localhost:8080/"
        },
        "outputId": "0b4ea2e1-b056-43d0-89bb-d68ae777f5f4"
      },
      "source": [
        "a = 20\n",
        "b = 4\n",
        "print(a+b)\n",
        "print(a-b)"
      ],
      "execution_count": 25,
      "outputs": [
        {
          "output_type": "stream",
          "text": [
            "24\n",
            "16\n"
          ],
          "name": "stdout"
        }
      ]
    },
    {
      "cell_type": "markdown",
      "metadata": {
        "id": "t4JcimwwJvd2"
      },
      "source": [
        "Se pueden realizar las operaciones incluso entre distintos tipos de variables"
      ]
    },
    {
      "cell_type": "code",
      "metadata": {
        "id": "x7NDD_tJPBN6",
        "colab": {
          "base_uri": "https://localhost:8080/"
        },
        "outputId": "3d2f1587-2bfc-40fe-bc57-20f700aa0e1f"
      },
      "source": [
        "a = 20\n",
        "b = 4.5\n",
        "\n",
        "c = a+b\n",
        "d = a-b\n",
        "\n",
        "print(c)\n",
        "print(d)"
      ],
      "execution_count": 26,
      "outputs": [
        {
          "output_type": "stream",
          "text": [
            "24.5\n",
            "15.5\n"
          ],
          "name": "stdout"
        }
      ]
    },
    {
      "cell_type": "markdown",
      "metadata": {
        "id": "oNsWzLiBJvd-"
      },
      "source": [
        "¿De qué tipo es la variable resultante? Trata de adivinarlo antes de correr la celda siguiente."
      ]
    },
    {
      "cell_type": "code",
      "metadata": {
        "id": "yZLqW2ZYPBN_",
        "colab": {
          "base_uri": "https://localhost:8080/"
        },
        "outputId": "d4021665-38ba-44d0-8978-4941b3e7d52f"
      },
      "source": [
        "print(type(c))\n",
        "print(type(d))"
      ],
      "execution_count": 27,
      "outputs": [
        {
          "output_type": "stream",
          "text": [
            "<class 'float'>\n",
            "<class 'float'>\n"
          ],
          "name": "stdout"
        }
      ]
    },
    {
      "cell_type": "markdown",
      "metadata": {
        "id": "bLtMd2Z_JveF"
      },
      "source": [
        "También podemos dividir números."
      ]
    },
    {
      "cell_type": "code",
      "metadata": {
        "id": "z9kq2lEVPBOF",
        "colab": {
          "base_uri": "https://localhost:8080/"
        },
        "outputId": "c6b2da63-aec8-4f84-ee90-8a083a3daaa5"
      },
      "source": [
        "x = 10\n",
        "y = 3\n",
        "z = x/y\n",
        "print(z)"
      ],
      "execution_count": 28,
      "outputs": [
        {
          "output_type": "stream",
          "text": [
            "3.3333333333333335\n"
          ],
          "name": "stdout"
        }
      ]
    },
    {
      "cell_type": "markdown",
      "metadata": {
        "id": "V-RQ8mBIJveM"
      },
      "source": [
        "¿De qué tipo es la variable resultante de hacer la división? A pesar de dividir dos números enteros, el resultado es de tipo `float`. ¡Ésta es una de las diferencias entre Python 2 y Python 3."
      ]
    },
    {
      "cell_type": "code",
      "metadata": {
        "id": "IgJQDZ7MPBOI",
        "colab": {
          "base_uri": "https://localhost:8080/"
        },
        "outputId": "7f75f409-364e-449e-9c52-c7766bf32b69"
      },
      "source": [
        "print(type(z))"
      ],
      "execution_count": 30,
      "outputs": [
        {
          "output_type": "stream",
          "text": [
            "<class 'float'>\n"
          ],
          "name": "stdout"
        }
      ]
    },
    {
      "cell_type": "markdown",
      "metadata": {
        "id": "uxfV-jOYJved"
      },
      "source": [
        "La siguiente operación es muy usada en computación, nos devuelve el resto de la división. ¿No recuerdas qué es el resto? Puedes investigarlo [aquí](https://www.disfrutalasmatematicas.com/numeros/division-resto.html)."
      ]
    },
    {
      "cell_type": "code",
      "metadata": {
        "id": "tZWn26P9PBON",
        "colab": {
          "base_uri": "https://localhost:8080/"
        },
        "outputId": "0265573e-1713-4f91-a058-f26090824d8f"
      },
      "source": [
        "x = 10\n",
        "y = 9\n",
        "print(x%y)\n",
        "print(type(x%y))"
      ],
      "execution_count": 33,
      "outputs": [
        {
          "output_type": "stream",
          "text": [
            "1\n",
            "<class 'int'>\n"
          ],
          "name": "stdout"
        }
      ]
    },
    {
      "cell_type": "markdown",
      "metadata": {
        "id": "-5X5DceISQ-O"
      },
      "source": [
        "**Ejercicio**: Calcular el porcentaje que representa el valor 17 sobre un total de 54 y guardarlo en una variable llamada `porcentaje`."
      ]
    },
    {
      "cell_type": "code",
      "metadata": {
        "id": "RztYLbRnYG37",
        "colab": {
          "base_uri": "https://localhost:8080/"
        },
        "outputId": "202e32e6-64ca-4223-b95b-1b2f3cd70ee3"
      },
      "source": [
        "a=54\n",
        "b=17\n",
        "porcentaje=(b*100)/a\n",
        "print('El porcentaje es ', int(porcentaje), '%')"
      ],
      "execution_count": 40,
      "outputs": [
        {
          "output_type": "stream",
          "text": [
            "El porcentaje es  48 %\n"
          ],
          "name": "stdout"
        }
      ]
    },
    {
      "cell_type": "markdown",
      "metadata": {
        "id": "sOTLmVfbvVj5"
      },
      "source": [
        "#### **Ejercicio - Challenge**: calcula la suma y multiplicación de las variables `a`, `b` y `c`. ¡Presta atención al tipo de dato!"
      ]
    },
    {
      "cell_type": "code",
      "metadata": {
        "id": "JUyyfS0lvnWR",
        "colab": {
          "base_uri": "https://localhost:8080/"
        },
        "outputId": "09d799c8-5cc2-42f9-9a41-d0de2e2f28c5"
      },
      "source": [
        "a = float('2')\n",
        "b =float( '-5.5')\n",
        "c = float('7.8')\n",
        "\n",
        "suma=a+b+c\n",
        "multiplicacion=a*b*c\n",
        "print(suma)\n",
        "print(multiplicacion)"
      ],
      "execution_count": 47,
      "outputs": [
        {
          "output_type": "stream",
          "text": [
            "4.3\n",
            "-85.8\n"
          ],
          "name": "stdout"
        }
      ]
    },
    {
      "cell_type": "markdown",
      "metadata": {
        "id": "Rdo5rRsdPBO7"
      },
      "source": [
        "## 2. Listas y Loops\n",
        "\n",
        "Ya vimos los tipos de datos básicos de Python. Es hora de empezar a combinarlos.\n",
        "\n",
        "### 2.1 Listas\n",
        "\n",
        "Las listas un objeto central en el lenguaje Python. Están compuestas por una sucesión de objetos en un orden determinado. Se definen mediante corchetes `[]`, y los objetos dentro de ellas se separan por comas `,`. Veamos un ejemplo:"
      ]
    },
    {
      "cell_type": "code",
      "metadata": {
        "id": "vA9XBz5mPBO8",
        "colab": {
          "base_uri": "https://localhost:8080/"
        },
        "outputId": "cb966dc7-5d59-4d7f-e990-60d9c74bdcbc"
      },
      "source": [
        "lista_1 = [42, 10.7, True, 'Texto',20]\n",
        "print(lista_1)"
      ],
      "execution_count": 51,
      "outputs": [
        {
          "output_type": "stream",
          "text": [
            "[42, 10.7, True, 'Texto', 20]\n"
          ],
          "name": "stdout"
        }
      ]
    },
    {
      "cell_type": "markdown",
      "metadata": {
        "id": "286PH7uXJves"
      },
      "source": [
        "**Notar** que la lista puede contener varios tipos de datos diferentes sin ningún problema.\n",
        "\n",
        "Una pregunta muy usual que uno hace cuando trabaja con listas es cuántos elementos tiene. Esto lo podemos responder con el comando `len()`"
      ]
    },
    {
      "cell_type": "code",
      "metadata": {
        "id": "D4nWSXKSPBO_",
        "colab": {
          "base_uri": "https://localhost:8080/"
        },
        "outputId": "5c3fa81b-f068-42f8-a0c7-45a46fd244a3"
      },
      "source": [
        "len(lista_1)"
      ],
      "execution_count": 52,
      "outputs": [
        {
          "output_type": "execute_result",
          "data": {
            "text/plain": [
              "5"
            ]
          },
          "metadata": {
            "tags": []
          },
          "execution_count": 52
        }
      ]
    },
    {
      "cell_type": "markdown",
      "metadata": {
        "id": "b0wCmLL2PBPC"
      },
      "source": [
        "#### Indexado\n",
        "\n",
        "Cada elemento de una lista tiene asignada una posición (*índice*) que podemos usar para inspeccionar ese elemento u operar con él. Los índices **empiezan en 0**, y se especifican poniendo corchetes con el índice dentro luego del nombre de la lista:"
      ]
    },
    {
      "cell_type": "code",
      "metadata": {
        "id": "Jepw64oFPBPC",
        "colab": {
          "base_uri": "https://localhost:8080/"
        },
        "outputId": "57f07288-5a6f-4d2b-9232-c4b7c058df9c"
      },
      "source": [
        "lista_2 = [5, 6.0,'Un poco de texto',-5, False, 'Más texto', True, 100]\n",
        "\n",
        "print(lista_2[0])\n",
        "print(lista_2[3])\n",
        "print(lista_2[7])"
      ],
      "execution_count": 55,
      "outputs": [
        {
          "output_type": "stream",
          "text": [
            "5\n",
            "-5\n",
            "100\n"
          ],
          "name": "stdout"
        }
      ]
    },
    {
      "cell_type": "code",
      "metadata": {
        "id": "JMe1tDBOgru9",
        "outputId": "f0585507-4dd2-46f9-dc4b-37215b7629ff",
        "colab": {
          "base_uri": "https://localhost:8080/"
        }
      },
      "source": [
        "len(lista_2)"
      ],
      "execution_count": 56,
      "outputs": [
        {
          "output_type": "execute_result",
          "data": {
            "text/plain": [
              "8"
            ]
          },
          "metadata": {
            "tags": []
          },
          "execution_count": 56
        }
      ]
    },
    {
      "cell_type": "markdown",
      "metadata": {
        "id": "WOz0qLeiJve4"
      },
      "source": [
        "**Ejercicio**: imprimir el séptimo elemento de `lista_2`. Asegurarte que lo hiciste bien contando los elementos de la lista."
      ]
    },
    {
      "cell_type": "code",
      "metadata": {
        "id": "7ow4VjxZJve8",
        "colab": {
          "base_uri": "https://localhost:8080/"
        },
        "outputId": "4b991883-828d-423b-a4d3-0f698d4acf4f"
      },
      "source": [
        "# COMPLETAR\n",
        "print(lista_2[6])"
      ],
      "execution_count": 58,
      "outputs": [
        {
          "output_type": "stream",
          "text": [
            "True\n"
          ],
          "name": "stdout"
        }
      ]
    },
    {
      "cell_type": "markdown",
      "metadata": {
        "id": "qS6wo6wUJvfA"
      },
      "source": [
        "También podemos seleccionar porciones de la lista, no solamente de a un elemento por vez."
      ]
    },
    {
      "cell_type": "code",
      "metadata": {
        "id": "mVfn1mYHPBPK",
        "colab": {
          "base_uri": "https://localhost:8080/"
        },
        "outputId": "58dd3133-a099-4510-d50a-64f2d07f2504"
      },
      "source": [
        "print(lista_1[0:3])\n",
        "print(lista_2[4:])\n",
        "print(lista_2[1:5:2])"
      ],
      "execution_count": 59,
      "outputs": [
        {
          "output_type": "stream",
          "text": [
            "[42, 10.7, True]\n",
            "[False, 'Más texto', True, 100]\n",
            "[6.0, -5]\n"
          ],
          "name": "stdout"
        }
      ]
    },
    {
      "cell_type": "markdown",
      "metadata": {
        "id": "3RrvsnVRJvfF"
      },
      "source": [
        "¿Cuál es la lógica que gobierna esta sintaxis? Juega un poco con ella y fíjate si logras descubrir la regla. Sino, también puedes googlear qué es *slicing*.\n",
        "\n",
        "Algo más sobre indexado. Podemos indexar *desde el final* de la lista usando números negativos."
      ]
    },
    {
      "cell_type": "code",
      "metadata": {
        "id": "zZORvWBvJvfG",
        "colab": {
          "base_uri": "https://localhost:8080/"
        },
        "outputId": "bcb80cb6-3792-4f8c-c3fe-9c8dfaa37841"
      },
      "source": [
        "print(lista_2[-1])\n",
        "print(lista_2[-2])\n",
        "print(lista_2[-8])"
      ],
      "execution_count": 61,
      "outputs": [
        {
          "output_type": "stream",
          "text": [
            "100\n",
            "True\n",
            "5\n"
          ],
          "name": "stdout"
        }
      ]
    },
    {
      "cell_type": "markdown",
      "metadata": {
        "id": "qyaVS4DtJvfJ"
      },
      "source": [
        "Veamos una cosita más. Creemos una tercera lista"
      ]
    },
    {
      "cell_type": "code",
      "metadata": {
        "id": "-nQ_FGfNPBPM",
        "colab": {
          "base_uri": "https://localhost:8080/"
        },
        "outputId": "72b4a635-31f5-4d2b-94b8-eef90fe41e9f"
      },
      "source": [
        "# Definimos una segunda lista\n",
        "lista_3 = [0, lista_1, 'Mas texto', lista_2]\n",
        "print(lista_3)\n",
        "print(len(lista_3))"
      ],
      "execution_count": 64,
      "outputs": [
        {
          "output_type": "stream",
          "text": [
            "[0, [42, 10.7, True, 'Texto', 20], 'Mas texto', [5, 6.0, 'Un poco de texto', -5, False, 'Más texto', True, 100]]\n",
            "4\n"
          ],
          "name": "stdout"
        }
      ]
    },
    {
      "cell_type": "markdown",
      "metadata": {
        "id": "5YSBWt8tPBPP"
      },
      "source": [
        "Notemos que en esta tercera lista, agregamos dentro la primera y la segunda lista. Ambas listas ahora son elementos de esta tercera lista. Prestar particular atención a cuántos elementos tiene `lista_3`. ¡No importa cuántos elementos tienen `lista_1` o `lista_2`, dentro de `lista_3` solamente cuentan como uno!"
      ]
    },
    {
      "cell_type": "code",
      "metadata": {
        "id": "3WYr5rJQPBPQ",
        "colab": {
          "base_uri": "https://localhost:8080/"
        },
        "outputId": "f4b9bdb3-f33e-4fa5-ba91-b36d15b60cab"
      },
      "source": [
        "print(lista_3[1])"
      ],
      "execution_count": 65,
      "outputs": [
        {
          "output_type": "stream",
          "text": [
            "[42, 10.7, True, 'Texto', 20]\n"
          ],
          "name": "stdout"
        }
      ]
    },
    {
      "cell_type": "markdown",
      "metadata": {
        "id": "RsTtGltdJvfT"
      },
      "source": [
        "**Ejercicio:** tomando `lista_1` desde `lista_3` (lo que acabamos de hacer en la celda anterior), indexar el tercer elemento de `lista_1`. Debería darte como resultado `True`."
      ]
    },
    {
      "cell_type": "code",
      "metadata": {
        "id": "on1ihAbHJvfU",
        "colab": {
          "base_uri": "https://localhost:8080/"
        },
        "outputId": "7c65f042-aa7a-49a9-a255-11a2ea87ca4f"
      },
      "source": [
        "# COMPLETAR\n",
        "print(lista_3[1][2])"
      ],
      "execution_count": 67,
      "outputs": [
        {
          "output_type": "stream",
          "text": [
            "True\n"
          ],
          "name": "stdout"
        }
      ]
    },
    {
      "cell_type": "markdown",
      "metadata": {
        "id": "ZbA1JYFxPBPR"
      },
      "source": [
        "**Lista Vacía y `append()`**\n",
        "\n",
        "Podemos crear listas vacias e ir agregándole elementos con el método `append()`"
      ]
    },
    {
      "cell_type": "code",
      "metadata": {
        "id": "7VWvo-GwPBPT",
        "colab": {
          "base_uri": "https://localhost:8080/"
        },
        "outputId": "452518d0-f154-4ee8-b36e-999278526e13"
      },
      "source": [
        "lista_vacia = []\n",
        "len(lista_vacia)"
      ],
      "execution_count": 68,
      "outputs": [
        {
          "output_type": "execute_result",
          "data": {
            "text/plain": [
              "0"
            ]
          },
          "metadata": {
            "tags": []
          },
          "execution_count": 68
        }
      ]
    },
    {
      "cell_type": "code",
      "metadata": {
        "id": "pmlQp8PEPBPV",
        "colab": {
          "base_uri": "https://localhost:8080/"
        },
        "outputId": "e08d7615-2c0c-4f60-e1dc-0f9aafc01a26"
      },
      "source": [
        "lista_vacia.append(42)\n",
        "lista_vacia.append('un segundo item')\n",
        "print(lista_vacia)\n",
        "print(len(lista_vacia))"
      ],
      "execution_count": 69,
      "outputs": [
        {
          "output_type": "stream",
          "text": [
            "[42, 'un segundo item']\n",
            "2\n"
          ],
          "name": "stdout"
        }
      ]
    },
    {
      "cell_type": "markdown",
      "metadata": {
        "id": "sU-6LA63PBPX"
      },
      "source": [
        "Prueba qué pasa si corren nuevamente la celda anterior (justo arriba de ésta). Notar que el método `append()` no solamente trabaja en listas vacías.\n",
        "\n",
        "**Ejercicio**: Define una lista vacia llamada `lista_nueva` y agréguele (`append()`) los elementos `a`, `b` y `c`."
      ]
    },
    {
      "cell_type": "code",
      "metadata": {
        "id": "jXs-Rkh6VF8K",
        "colab": {
          "base_uri": "https://localhost:8080/"
        },
        "outputId": "ab126867-4c8c-4842-866c-84c411f728fd"
      },
      "source": [
        "a = 8\n",
        "b = 'world'\n",
        "c = [12,24.5,66]\n",
        "\n",
        "lista_nueva =[] # COMPLETAR\n",
        "# COMPLETAR\n",
        "lista_nueva.append(a)\n",
        "lista_nueva.append(b)\n",
        "lista_nueva.append(c)\n",
        "print(lista_nueva)"
      ],
      "execution_count": 70,
      "outputs": [
        {
          "output_type": "stream",
          "text": [
            "[8, 'world', [12, 24.5, 66]]\n"
          ],
          "name": "stdout"
        }
      ]
    },
    {
      "cell_type": "markdown",
      "metadata": {
        "id": "fOCxehC_Jvfm"
      },
      "source": [
        "**CUIDADO:** a veces queremos copiar una lista, operar sobre ella y comparar los resultados con la lista original. Sin embargo, hay que tener cuidado cuando queremos copiar listas"
      ]
    },
    {
      "cell_type": "code",
      "metadata": {
        "id": "t9WclLNMJvfn",
        "colab": {
          "base_uri": "https://localhost:8080/"
        },
        "outputId": "ea8cb860-7f87-43fb-f866-27aecd826df9"
      },
      "source": [
        "lista_1 = [1,2,3,4]\n",
        "lista_2 = lista_1  # lista_2 ahora es igual a lista_1\n",
        "lista_2[-1] = 100 # el ultimo elemento de la lista_2 ahora es 100\n",
        "print(lista_1, lista_2)"
      ],
      "execution_count": 72,
      "outputs": [
        {
          "output_type": "stream",
          "text": [
            "[1, 2, 3, 100] [1, 2, 3, 100]\n"
          ],
          "name": "stdout"
        }
      ]
    },
    {
      "cell_type": "markdown",
      "metadata": {
        "id": "SDNdtX3uJvfr"
      },
      "source": [
        "¡Notar que se modificaron ambas listas! Esto, en general, no es lo deseado. Pero podemos hacerlo bien:"
      ]
    },
    {
      "cell_type": "code",
      "metadata": {
        "id": "tGukUgixJvfs",
        "colab": {
          "base_uri": "https://localhost:8080/"
        },
        "outputId": "d2b0d4eb-9461-4228-ee3a-d14a3d54e83b"
      },
      "source": [
        "lista_1 = [1,2,3,4]\n",
        "lista_2 = lista_1.copy() # Prestar atención aquí\n",
        "lista_2[-1] = 100\n",
        "print(lista_1, lista_2)"
      ],
      "execution_count": 73,
      "outputs": [
        {
          "output_type": "stream",
          "text": [
            "[1, 2, 3, 4] [1, 2, 3, 100]\n"
          ],
          "name": "stdout"
        }
      ]
    },
    {
      "cell_type": "markdown",
      "metadata": {
        "id": "1gP68SzLJvfy"
      },
      "source": [
        "¡Ahora no! Es decir, si queremos copiar listas, debemos poner `.copy()`. Esto no solo vale para listas, sino para objetos que veremos en los próximos encuentros, como arreglos de Numpy y dataframes de Pandas."
      ]
    },
    {
      "cell_type": "markdown",
      "metadata": {
        "id": "oGW0jo5hPBPZ"
      },
      "source": [
        "### 2.2 Loops\n",
        "\n",
        "En general, cuando estamos programando, queremos repetir una operación varias veces. Por ejemplo, aplicarle una operación a los elementos de una lista. Si la lista tiene muchos elementos, puede ser engorroso escribir la aplicación de esa operacíon a cada elemento uno por uno, por lo que necesitamos alguna estructura de código que facilite esa sintaxis. \n",
        "\n",
        "Los **Loops** (bucles) son estructuras de codigo fundamentales en cualquier lenguaje de programación. Consisten en bloques de código que se repiten una cierta cantidad de veces dada una condición. Existen dos formas básicas de crear loops, las instrucciones tipo `for` y las instrucciones tipo `while`. Te vamos a contar de qué se tratan los `for`, si te interesa pueden googlear cómo funcionan los `while`.\n",
        "\n",
        "El `for` es un loop en el que un bloque de código se repite tantas veces como elementos haya en una determinada lista. En cada iteración (repetición) hay una variable que va tomando el valor de uno de los elementos en esta lista. Veamos un ejemplo:"
      ]
    },
    {
      "cell_type": "code",
      "metadata": {
        "id": "hZw979QmPBPa",
        "colab": {
          "base_uri": "https://localhost:8080/"
        },
        "outputId": "4ae6f65f-0365-41cb-b244-214f894ad03f"
      },
      "source": [
        "lista_numeros = [3,55,1,876,12]\n",
        "for elemento in lista_numeros:\n",
        "    # Definimos el codigo dentro del for mediante la indentación\n",
        "    # (Todo lo que este corrido un 'tab' a la derecha)\n",
        "    print(elemento)"
      ],
      "execution_count": 74,
      "outputs": [
        {
          "output_type": "stream",
          "text": [
            "3\n",
            "55\n",
            "1\n",
            "876\n",
            "12\n"
          ],
          "name": "stdout"
        }
      ]
    },
    {
      "cell_type": "markdown",
      "metadata": {
        "id": "yie0RDfK3z0x"
      },
      "source": [
        "Prestar particular atención a que el código que está \"dentro\" del `for` está **indentado**. En algunos lenguajes de programación la indentación se utiliza para ordenar el código, hacerlo más legible. En Python, en cambio, es **obligatorio**. Se logra con cuatro espacios o un tab.\n",
        "\n",
        "Repitamos los mismo que la celda anterior. pero ahora agregamos una variable `i` que cuenta la cantidad de veces que recorrimos el bucle `for` ."
      ]
    },
    {
      "cell_type": "code",
      "metadata": {
        "id": "kpqiAZb-PBPd",
        "colab": {
          "base_uri": "https://localhost:8080/"
        },
        "outputId": "f8698626-94bf-4fee-dae8-2c63d4740683"
      },
      "source": [
        "lista_numeros = [3,55,1,876,12]\n",
        "i = 0 # La iniciamos en cero\n",
        "\n",
        "for ser in lista_numeros:    \n",
        "    i = i+1 # Le sumamos 1 cada vez que entra\n",
        "    print(elemento,'es el elemento', i)"
      ],
      "execution_count": 77,
      "outputs": [
        {
          "output_type": "stream",
          "text": [
            "12 es el elemento 1\n",
            "12 es el elemento 2\n",
            "12 es el elemento 3\n",
            "12 es el elemento 4\n",
            "12 es el elemento 5\n"
          ],
          "name": "stdout"
        }
      ]
    },
    {
      "cell_type": "markdown",
      "metadata": {
        "id": "8C8nZYZT5QME"
      },
      "source": [
        "Tomarte unos minutos para entender qué hace la línea `i = i + 1`."
      ]
    },
    {
      "cell_type": "markdown",
      "metadata": {
        "id": "Qbz2a3orPBPl"
      },
      "source": [
        "También podemos recorrer listas de texto. Presten atencion al siguiente codigo, e intenten precedir el resultado antes de correr la celda."
      ]
    },
    {
      "cell_type": "code",
      "metadata": {
        "id": "z1jQ13uzPBPm",
        "colab": {
          "base_uri": "https://localhost:8080/"
        },
        "outputId": "a315987c-ec4b-45f2-df65-41c947c2fd8a"
      },
      "source": [
        "lista_nombres = ['Ernesto', 'Camilo', 'Violeta']\n",
        "nueva_lista = []\n",
        "\n",
        "for item in lista_nombres:\n",
        "    oracion = 'Mi nombre es ' + item\n",
        "    nueva_lista.append(oracion)\n",
        "\n",
        "# Este print esta fuera del bucle, no está indentado\n",
        "print(nueva_lista)"
      ],
      "execution_count": 78,
      "outputs": [
        {
          "output_type": "stream",
          "text": [
            "['Mi nombre es Ernesto', 'Mi nombre es Camilo', 'Mi nombre es Violeta']\n"
          ],
          "name": "stdout"
        }
      ]
    },
    {
      "cell_type": "markdown",
      "metadata": {
        "id": "YrQ5I9FZ53sq"
      },
      "source": [
        "Terminamos las explicaciones por el momento. Sabemos que fue bastante y que probablemente estés cansado/a. Recomendamos tomarte un tiempo para descansar y, luego, intentar los siguientes ejercicios. Es MUY importante intentarlo, no importa si sientes que no terminan de resolverlos.\n",
        "\n",
        "## Ejercitación\n",
        "\n",
        "En general, no hay una única forma de resolver los ejercicios que vamos a dejar. Lo que sí ocurre, a veces, es que hay formas más *eficientes* o *prolijas*. No debes preocuparte por eso ahora, lo importante es intentar resolverlos.\n",
        "\n",
        "**Ejercicios 1 y 2:** Si tenemos una lista de números, por ejemplo los primeros diez numeros naturales, e intentamos sumarle un número fijo a la lista, por ejemplo 3, tal vez intentemos algo parecido a lo siguiente: \n",
        "\n"
      ]
    },
    {
      "cell_type": "code",
      "metadata": {
        "id": "DNaZ9yIy7wXr",
        "colab": {
          "base_uri": "https://localhost:8080/",
          "height": 185
        },
        "outputId": "396dd796-29fc-4a08-9874-99508cb60181"
      },
      "source": [
        "numeros = [0,1,2,3,4,5,6,7,8,9]\n",
        "print(numeros + 3)"
      ],
      "execution_count": 79,
      "outputs": [
        {
          "output_type": "error",
          "ename": "TypeError",
          "evalue": "ignored",
          "traceback": [
            "\u001b[0;31m---------------------------------------------------------------------------\u001b[0m",
            "\u001b[0;31mTypeError\u001b[0m                                 Traceback (most recent call last)",
            "\u001b[0;32m<ipython-input-79-8b044cee7884>\u001b[0m in \u001b[0;36m<module>\u001b[0;34m()\u001b[0m\n\u001b[1;32m      1\u001b[0m \u001b[0mnumeros\u001b[0m \u001b[0;34m=\u001b[0m \u001b[0;34m[\u001b[0m\u001b[0;36m0\u001b[0m\u001b[0;34m,\u001b[0m\u001b[0;36m1\u001b[0m\u001b[0;34m,\u001b[0m\u001b[0;36m2\u001b[0m\u001b[0;34m,\u001b[0m\u001b[0;36m3\u001b[0m\u001b[0;34m,\u001b[0m\u001b[0;36m4\u001b[0m\u001b[0;34m,\u001b[0m\u001b[0;36m5\u001b[0m\u001b[0;34m,\u001b[0m\u001b[0;36m6\u001b[0m\u001b[0;34m,\u001b[0m\u001b[0;36m7\u001b[0m\u001b[0;34m,\u001b[0m\u001b[0;36m8\u001b[0m\u001b[0;34m,\u001b[0m\u001b[0;36m9\u001b[0m\u001b[0;34m]\u001b[0m\u001b[0;34m\u001b[0m\u001b[0;34m\u001b[0m\u001b[0m\n\u001b[0;32m----> 2\u001b[0;31m \u001b[0mprint\u001b[0m\u001b[0;34m(\u001b[0m\u001b[0mnumeros\u001b[0m \u001b[0;34m+\u001b[0m \u001b[0;36m3\u001b[0m\u001b[0;34m)\u001b[0m\u001b[0;34m\u001b[0m\u001b[0;34m\u001b[0m\u001b[0m\n\u001b[0m",
            "\u001b[0;31mTypeError\u001b[0m: can only concatenate list (not \"int\") to list"
          ]
        }
      ]
    },
    {
      "cell_type": "markdown",
      "metadata": {
        "id": "z5l3spVJ775e"
      },
      "source": [
        "¡Nos salta un error! (Notar que la opción de Googlear el error en Stack Overflow esta vez es más informativa.). Entonces, te proponemos que resuelvas los siguientes ejercicios:\n",
        "\n",
        "\n",
        "1. Crear una rutina que le sume tres a los diez primeros números naturales y vaya imprimiendo en pantalla a medida que lo hace.\n",
        "2. Crear una rutina que le sume tres a los diez primeros números naturales y guarde los resultados en una nueva lista. Al final, imprimir esa lista en pantalla.\n",
        "\n",
        "Si necesitas unas pistas, puedes clickear [aquí](https://colab.research.google.com/drive/1gfqynizt4gSsitlZELigCL1jIdlYkpmS), ¡pero te recomendamos que antes lo intentes!"
      ]
    },
    {
      "cell_type": "code",
      "metadata": {
        "id": "Cf4kcg6fCcL8",
        "colab": {
          "base_uri": "https://localhost:8080/"
        },
        "outputId": "4ac3207d-4d01-4b23-f11a-6781fd701155"
      },
      "source": [
        "# COMPLETAR\n",
        "lista_numeros_naturales=[1,2,3,4,5,6,7,8,9,10]\n",
        "\n",
        "for numero in lista_numeros_naturales:\n",
        "    nuevo=numero+3\n",
        "    print(nuevo)\n",
        "   "
      ],
      "execution_count": 89,
      "outputs": [
        {
          "output_type": "stream",
          "text": [
            "4\n",
            "5\n",
            "6\n",
            "7\n",
            "8\n",
            "9\n",
            "10\n",
            "11\n",
            "12\n",
            "13\n"
          ],
          "name": "stdout"
        }
      ]
    },
    {
      "cell_type": "code",
      "metadata": {
        "id": "SLQUER3i9LFq",
        "colab": {
          "base_uri": "https://localhost:8080/"
        },
        "outputId": "02e16a16-d669-44d3-d91b-3e1a9e851af4"
      },
      "source": [
        "# COMPLETAR\n",
        "lista_numeros_naturales=[1,2,3,4,5,6,7,8,9,10]\n",
        "lista_con_cambios=[]\n",
        "\n",
        "for sume_tres in lista_numeros_naturales:\n",
        "    nuevo=sume_tres+3\n",
        "    lista_con_cambios.append(nuevo)\n",
        "print(lista_con_cambios)"
      ],
      "execution_count": 92,
      "outputs": [
        {
          "output_type": "stream",
          "text": [
            "[4, 5, 6, 7, 8, 9, 10, 11, 12, 13]\n"
          ],
          "name": "stdout"
        }
      ]
    },
    {
      "cell_type": "markdown",
      "metadata": {
        "id": "rqAE7lt-DPuV"
      },
      "source": [
        "**Para investigar y pensar**: ¿qué ocurriría si, en lugar de querer sumarle un número a los diez primeros números naturales, quisiéramos hacerlo sobre los primeros cien?¿Y si fuera el primer millón de números naturales?¿La rutina que creaste es fácilmente adaptable? Investiga cómo podrías adaptarla. Pista: `range()`"
      ]
    },
    {
      "cell_type": "code",
      "metadata": {
        "id": "hzA368c5qq4b",
        "outputId": "a231932f-6a35-4f2a-909c-e7ba2e8b504c",
        "colab": {
          "base_uri": "https://localhost:8080/"
        }
      },
      "source": [
        "numero=range(1,101)\n",
        "lista_naturales=[]\n",
        "for x in numero:\n",
        "    lista_naturales.append(x)\n",
        "\n",
        "print(lista_naturales)\n",
        "print(len(lista_naturales))\n",
        "lista_nnueva=[]\n",
        "for n in lista_naturales:\n",
        "    z=n+3\n",
        "    lista_nnueva.append(z)\n",
        "\n",
        "print(lista_nnueva)\n",
        "print(len(lista_nnueva))\n",
        "\n",
        "\n"
      ],
      "execution_count": 101,
      "outputs": [
        {
          "output_type": "stream",
          "text": [
            "[1, 2, 3, 4, 5, 6, 7, 8, 9, 10, 11, 12, 13, 14, 15, 16, 17, 18, 19, 20, 21, 22, 23, 24, 25, 26, 27, 28, 29, 30, 31, 32, 33, 34, 35, 36, 37, 38, 39, 40, 41, 42, 43, 44, 45, 46, 47, 48, 49, 50, 51, 52, 53, 54, 55, 56, 57, 58, 59, 60, 61, 62, 63, 64, 65, 66, 67, 68, 69, 70, 71, 72, 73, 74, 75, 76, 77, 78, 79, 80, 81, 82, 83, 84, 85, 86, 87, 88, 89, 90, 91, 92, 93, 94, 95, 96, 97, 98, 99, 100]\n",
            "100\n",
            "[4, 5, 6, 7, 8, 9, 10, 11, 12, 13, 14, 15, 16, 17, 18, 19, 20, 21, 22, 23, 24, 25, 26, 27, 28, 29, 30, 31, 32, 33, 34, 35, 36, 37, 38, 39, 40, 41, 42, 43, 44, 45, 46, 47, 48, 49, 50, 51, 52, 53, 54, 55, 56, 57, 58, 59, 60, 61, 62, 63, 64, 65, 66, 67, 68, 69, 70, 71, 72, 73, 74, 75, 76, 77, 78, 79, 80, 81, 82, 83, 84, 85, 86, 87, 88, 89, 90, 91, 92, 93, 94, 95, 96, 97, 98, 99, 100, 101, 102, 103]\n",
            "100\n"
          ],
          "name": "stdout"
        }
      ]
    },
    {
      "cell_type": "markdown",
      "metadata": {
        "id": "565EnFNTVU3V"
      },
      "source": [
        "**Ejercicio 3**: Genere una lista llamada `numerotes` que contenga el cuadrado de cada elemento en la lista `numeritos`."
      ]
    },
    {
      "cell_type": "code",
      "metadata": {
        "id": "YB0EcpVqV3hY",
        "colab": {
          "base_uri": "https://localhost:8080/"
        },
        "outputId": "2102e6ad-0261-40da-f63e-5bfff9e8fe53"
      },
      "source": [
        "numeritos = [3,1,5,7,12,10,17,4,22]\n",
        "# COMPLETAR\n",
        "numerotes=[]\n",
        "i=0\n",
        "for numero in numeritos:\n",
        "    nuevo=numero**2\n",
        "    numerotes.append(nuevo)\n",
        "    i=i+1\n",
        "print(numerotes)"
      ],
      "execution_count": 90,
      "outputs": [
        {
          "output_type": "stream",
          "text": [
            "[9, 1, 25, 49, 144, 100, 289, 16, 484]\n"
          ],
          "name": "stdout"
        }
      ]
    },
    {
      "cell_type": "markdown",
      "metadata": {
        "id": "pn21djUX2ms6"
      },
      "source": [
        "**Ejercicio 4:** estudiar qué ocurre si sumas,`+`, dos listas. ¿Cómo se llama esa operación?"
      ]
    },
    {
      "cell_type": "code",
      "metadata": {
        "id": "VznWurp02l5K",
        "colab": {
          "base_uri": "https://localhost:8080/"
        },
        "outputId": "5c408b5f-ea67-48c7-bf29-37fff8d41a7d"
      },
      "source": [
        "lista_1 = [1,5,-8,3]\n",
        "lista_2 = [True, 'Cocodrilo que se duerme es cartera', 9, -17, 98, False]\n",
        "# COMPLETAR\n",
        "\n",
        "lista_3=lista_2+lista_1\n",
        "lista_4=lista_1+lista_2\n",
        "\n",
        "print(lista_3)\n",
        "print(lista_4)"
      ],
      "execution_count": 114,
      "outputs": [
        {
          "output_type": "stream",
          "text": [
            "[True, 'Cocodrilo que se duerme es cartera', 9, -17, 98, False, 1, 5, -8, 3]\n",
            "[1, 5, -8, 3, True, 'Cocodrilo que se duerme es cartera', 9, -17, 98, False]\n"
          ],
          "name": "stdout"
        }
      ]
    },
    {
      "cell_type": "markdown",
      "metadata": {
        "id": "mwZKZSXBEA9A"
      },
      "source": [
        "La operación se llama concatenación. En este caso, de listas."
      ]
    },
    {
      "cell_type": "markdown",
      "metadata": {
        "id": "IR4u7CJok7is"
      },
      "source": [
        "**Ejercicio 5:** sumar todos los elementos de la siguiente lista. **Pistas:**\n",
        "* En un ejemplo anterior definimos una variable `i`, inicializada en cero, que fuimos modificando en cada paso de un `for`. Considerar la opción de definir una variable `suma` y utilizarla de forma parecida."
      ]
    },
    {
      "cell_type": "code",
      "metadata": {
        "id": "OKSDg3W4k7K-",
        "colab": {
          "base_uri": "https://localhost:8080/"
        },
        "outputId": "eaec7365-b207-474d-d85b-729de2b24cb5"
      },
      "source": [
        "numeros = [4,8,3,1,-3,3,-5,1,2,-8]\n",
        "# COMPLETAR\n",
        "suma=0\n",
        "for n in numeros:\n",
        "    suma=suma+n\n",
        "print(suma)"
      ],
      "execution_count": 115,
      "outputs": [
        {
          "output_type": "stream",
          "text": [
            "6\n"
          ],
          "name": "stdout"
        }
      ]
    },
    {
      "cell_type": "code",
      "metadata": {
        "id": "fjpBun1wlsCn"
      },
      "source": [
        ""
      ],
      "execution_count": null,
      "outputs": []
    }
  ]
}