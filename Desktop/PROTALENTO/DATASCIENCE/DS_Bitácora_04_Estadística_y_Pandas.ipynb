{
  "nbformat": 4,
  "nbformat_minor": 0,
  "metadata": {
    "kernelspec": {
      "display_name": "Python 3",
      "language": "python",
      "name": "python3"
    },
    "language_info": {
      "codemirror_mode": {
        "name": "ipython",
        "version": 3
      },
      "file_extension": ".py",
      "mimetype": "text/x-python",
      "name": "python",
      "nbconvert_exporter": "python",
      "pygments_lexer": "ipython3",
      "version": "3.7.6"
    },
    "colab": {
      "name": "DS_Bitácora_04_Estadística_y_Pandas.ipynb",
      "provenance": [],
      "collapsed_sections": []
    }
  },
  "cells": [
    {
      "cell_type": "code",
      "metadata": {
        "id": "lqCdXnSP1PzC"
      },
      "source": [
        "x_s = [1,2,3,1,2,2,3,4,1,2,3,4,1,2,4]\n",
        "# COMPLETAR"
      ],
      "execution_count": null,
      "outputs": []
    },
    {
      "cell_type": "code",
      "metadata": {
        "id": "PosCOxzC1Pzl"
      },
      "source": [
        "# COMPLETAR"
      ],
      "execution_count": null,
      "outputs": []
    },
    {
      "cell_type": "markdown",
      "metadata": {
        "id": "uMmPPSpQ1Pz9"
      },
      "source": [
        "¿Cómo te fue con el Challenge? Si no pudiste resolverlo, no te preocupes. ¡NumPy tiene funciones ya incorporadas que calcula algunos estadísticos sobre un arreglo!\n",
        "\n",
        "### 1.2 Estadística con NumPy\n",
        "\n",
        "Veamos cómo se calculan, en NumPy, el promedio, varianza y desviación estándar sobre un arreglo."
      ]
    },
    {
      "cell_type": "markdown",
      "metadata": {
        "id": "U8zyY9Zz1Py3"
      },
      "source": [
        "# Estadística Descriptiva y Pandas\n",
        "\n",
        "El objetivo del siguiente notebook es, además de repasar conceptos de estadística, que sigas aprendiendo a operar con Numpy y que, además, incorpores Pandas a tu caja de herramientas.\n",
        "\n",
        "## 1. Estadística Descriptiva\n",
        "\n",
        "La Estadística Descriptiva nos sirve para comenzar a analizar y entender un conjunto de datos. En el caso de datos numéricos, lo hace obteniendo *valores estadísticos* que, de alguna forma, reemplazan a nuestros datos. Por ejemplo, es muy difícil leer y *entender* la edad de 1000 personas. Pero con un grupo reducido de valores estadísticos (mínimo, máximo, media y desviación estándar, etc.) podemos aproximarnos a ese conjunto de una manera mucho más comprensible. Veamos dos medidas muy importantes:\n",
        "\n",
        "**Promedio**\n",
        "\n",
        "Dados $n$ números $x_1,x_2,...,x_n$, el promedio o media es \n",
        "\n",
        "$$\\overline{x} = \\frac{1}{n}\\sum_{i=1}^{n} x_i = \\frac{x_1 + x_2 + ... + x_n}{n}$$\n",
        "\n",
        "**Desviación Estándar**\n",
        "\n",
        "La varianza y la desviación estándar nos dan una idea de cuán \"dispersos\" están los valores con respecto a su promedio.\n",
        "\n",
        "$$ Var = \\frac{\\sum_{i=1}^{n} (x_i -\\overline{x})^2}{n - 1}$$\n",
        "\n",
        "La desviación estándar es la raiz cuadrada de la varianza. En general se usa la letra griega $\\sigma$ para representarla o las siglas $SD$:\n",
        "\n",
        "$$ SD = \\sqrt{\\frac{\\sum_{i=1}^{n} (x_i -\\overline{x})^2}{n - 1}}$$\n",
        "\n",
        "$$ SD = \\sqrt{Var}$$\n",
        "\n",
        "\n",
        "**Comentarios**:\n",
        "1. Dado un conjunto de números, el promedio suele ser considerado el número más representativo de ese conjunto. Esto no siempre es así. Pensá o googleá por qué.\n",
        "2. Al conjunto de números $x_1,...,x_n$ los pueden encontrar por el nombre de *población* o *muestra* (¡Ojo que no estamos diciendo que *población* y *muestra* sean lo mismo!).\n",
        "\n",
        "### Challenge:\n",
        "\n",
        "Vamos a utilizar de excusa la estadística descriptiva para hacer un desafío de programación:\n",
        "\n",
        "Dadas la siguiente lista de números, escribir una rutina que calcule su promedio, su varianza y desviación estándar. **Pistas:**\n",
        "* Probablemente te sea muy útil usar lo que hiciste para ejercicios anteriores.\n",
        "* Para calcular la varianza y la desviación estándar, usa el resultado que obtuviste al calcular el promedio."
      ]
    },
    {
      "cell_type": "code",
      "metadata": {
        "id": "nyJsUM4j1P0C",
        "colab": {
          "base_uri": "https://localhost:8080/"
        },
        "outputId": "45cd9de9-ccf0-4ed3-ce26-37c9888e2d72"
      },
      "source": [
        "import numpy as np\n",
        "\n",
        "x_s = np.array([1,2,3,1,2,2,3,4,1,2,3,4,1,2,4])\n",
        "\n",
        "# Promedio\n",
        "print(x_s.mean())\n",
        "\n",
        "# Varianza\n",
        "print(x_s.var(ddof = 1))\n",
        "\n",
        "# Desviación estándar\n",
        "print(x_s.std(ddof = 1))"
      ],
      "execution_count": 5,
      "outputs": [
        {
          "output_type": "stream",
          "text": [
            "2.3333333333333335\n",
            "1.238095238095238\n",
            "1.1126972805283735\n"
          ],
          "name": "stdout"
        }
      ]
    },
    {
      "cell_type": "markdown",
      "metadata": {
        "id": "NuADSmLC1P0S"
      },
      "source": [
        "**Para investigar**: ¿qué es el parámetro `ddof` de esa función?¿Qué pasa si no lo usas? Esta pregunta es **difícil** y requiere cierto conocimiento previo. Pero intenta, de todas formas, averiguarlo.\n",
        "\n",
        "NumPy también puede calcular percentilos (¡googlear!), cuantilos, mínimos y máximos:"
      ]
    },
    {
      "cell_type": "code",
      "metadata": {
        "id": "BwBr3Gb_1P0Y",
        "colab": {
          "base_uri": "https://localhost:8080/"
        },
        "outputId": "81f76867-f591-4bfb-b184-06440ac426ac"
      },
      "source": [
        "print(np.percentile(x_s,75))\n",
        "print(np.quantile(x_s,0.5))\n",
        "print(np.min(x_s))\n",
        "print(np.max(x_s))"
      ],
      "execution_count": 6,
      "outputs": [
        {
          "output_type": "stream",
          "text": [
            "3.0\n",
            "2.0\n",
            "1\n",
            "4\n"
          ],
          "name": "stdout"
        }
      ]
    },
    {
      "cell_type": "markdown",
      "metadata": {
        "id": "31cRSU0v1P0n"
      },
      "source": [
        "**Para investigar**: ¿Cuál es la diferencia entre `np.percentile()` y `np.quantile()`?¿Cómo obtendrías los cuartiles a partir de ellos?\n",
        "\n",
        "### 1.3 Generación de muestras al azar\n",
        "\n",
        "Una cosa sumamente útil que podemos hacer con NumPy es generar muestras al azar. Esto no permite simular situaciones. Por ejemplo, las tiradas de dados que aparecen en el GIF de la bitácora. Estas funciones las encontramos dentro del paquete `random` de NumPy, cuya documentación pueden encontrar [aquí](https://docs.scipy.org/doc/numpy-1.15.0/reference/routines.random.html). Veamos cómo lo podemos hacer:"
      ]
    },
    {
      "cell_type": "code",
      "metadata": {
        "id": "LveHBaed1P0u",
        "colab": {
          "base_uri": "https://localhost:8080/"
        },
        "outputId": "bbf22210-db71-4570-a04d-24e8202ab573"
      },
      "source": [
        "muestras_dado = np.random.randint(1,7, size = 15)\n",
        "print(muestras_dado)\n",
        "\n",
        "### También se puede\n",
        "muestras_dado = np.random.choice([1,2,3,4,5,6], size = 15)\n",
        "print(muestras_dado)"
      ],
      "execution_count": 58,
      "outputs": [
        {
          "output_type": "stream",
          "text": [
            "[2 6 2 4 4 2 1 2 3 4 2 4 3 5 5]\n",
            "[6 3 3 1 6 2 6 3 1 4 5 6 5 1 3]\n"
          ],
          "name": "stdout"
        }
      ]
    },
    {
      "cell_type": "markdown",
      "metadata": {
        "id": "iw5KJ1sN1P08"
      },
      "source": [
        "### Ejercitación\n",
        "\n",
        "**Ejercicio 1:** ¿Cuál será el promedio de los valores obtenidos al tirar muchas veces un dado?¿Te animás a averiguar - o calcular - cuánto *debería dar* antes de hacerlo? Vamos a tratar de responder esta pregunta **simulando** un dado. Para ello:\n",
        "* Obtener muestras al azar de un dado usando lo que vimos anteriormente.\n",
        "* Calcular su promedio y desviación estándar.\n",
        "\n",
        "¿A partir de qué cantidad de muestras el promedio se \"estabiliza\"?"
      ]
    },
    {
      "cell_type": "code",
      "metadata": {
        "scrolled": true,
        "id": "x5AP10hv1P1A",
        "colab": {
          "base_uri": "https://localhost:8080/"
        },
        "outputId": "eddf6003-e913-47bc-c6f6-a29c28061c7a"
      },
      "source": [
        "\n",
        "dado= np.random.randint(1,7, size = 100000)\n",
        "#print(dado)\n",
        "print(dado.mean())\n",
        "# Desviación estándar\n",
        "print(dado.std(ddof = 1))\n"
      ],
      "execution_count": 57,
      "outputs": [
        {
          "output_type": "stream",
          "text": [
            "3.4989\n",
            "1.7060914094734123\n"
          ],
          "name": "stdout"
        }
      ]
    },
    {
      "cell_type": "markdown",
      "metadata": {
        "id": "YBg5eGbD1P1P"
      },
      "source": [
        "**Ejercicio 2:** Simular un dado cargado para favorecer un valor de su elección. Por ejemplo, el seis. Para ello, consultar la ayuda de la función `np.random.choice`. ¿Cómo se modifica el promedio y la desviación estándar?"
      ]
    },
    {
      "cell_type": "code",
      "metadata": {
        "id": "bsRijYBY1P1U",
        "colab": {
          "base_uri": "https://localhost:8080/",
          "height": 256
        },
        "outputId": "664a606b-77a4-44a4-93bc-e0a750aa196f"
      },
      "source": [
        "# COMPLETAR\n",
        "muestras_dado = np.random.choice([1,2,3,4,5,6], size = 15, replace=True, p=6)\n",
        "\n",
        "np.random.choice(5, 3, replace=False, p=[0.1, 0, 0.3, 0.6, 0])"
      ],
      "execution_count": 59,
      "outputs": [
        {
          "output_type": "error",
          "ename": "TypeError",
          "evalue": "ignored",
          "traceback": [
            "\u001b[0;31m---------------------------------------------------------------------------\u001b[0m",
            "\u001b[0;31mTypeError\u001b[0m                                 Traceback (most recent call last)",
            "\u001b[0;32m<ipython-input-59-7fcf79014f66>\u001b[0m in \u001b[0;36m<module>\u001b[0;34m()\u001b[0m\n\u001b[1;32m      1\u001b[0m \u001b[0;31m# COMPLETAR\u001b[0m\u001b[0;34m\u001b[0m\u001b[0;34m\u001b[0m\u001b[0;34m\u001b[0m\u001b[0m\n\u001b[0;32m----> 2\u001b[0;31m \u001b[0mmuestras_dado\u001b[0m \u001b[0;34m=\u001b[0m \u001b[0mnp\u001b[0m\u001b[0;34m.\u001b[0m\u001b[0mrandom\u001b[0m\u001b[0;34m.\u001b[0m\u001b[0mchoice\u001b[0m\u001b[0;34m(\u001b[0m\u001b[0;34m[\u001b[0m\u001b[0;36m1\u001b[0m\u001b[0;34m,\u001b[0m\u001b[0;36m2\u001b[0m\u001b[0;34m,\u001b[0m\u001b[0;36m3\u001b[0m\u001b[0;34m,\u001b[0m\u001b[0;36m4\u001b[0m\u001b[0;34m,\u001b[0m\u001b[0;36m5\u001b[0m\u001b[0;34m,\u001b[0m\u001b[0;36m6\u001b[0m\u001b[0;34m]\u001b[0m\u001b[0;34m,\u001b[0m \u001b[0msize\u001b[0m \u001b[0;34m=\u001b[0m \u001b[0;36m15\u001b[0m\u001b[0;34m,\u001b[0m \u001b[0mreplace\u001b[0m\u001b[0;34m=\u001b[0m\u001b[0;32mTrue\u001b[0m\u001b[0;34m,\u001b[0m \u001b[0mp\u001b[0m\u001b[0;34m=\u001b[0m\u001b[0;36m6\u001b[0m\u001b[0;34m)\u001b[0m\u001b[0;34m\u001b[0m\u001b[0;34m\u001b[0m\u001b[0m\n\u001b[0m\u001b[1;32m      3\u001b[0m \u001b[0;34m\u001b[0m\u001b[0m\n\u001b[1;32m      4\u001b[0m \u001b[0mnp\u001b[0m\u001b[0;34m.\u001b[0m\u001b[0mrandom\u001b[0m\u001b[0;34m.\u001b[0m\u001b[0mchoice\u001b[0m\u001b[0;34m(\u001b[0m\u001b[0;36m5\u001b[0m\u001b[0;34m,\u001b[0m \u001b[0;36m3\u001b[0m\u001b[0;34m,\u001b[0m \u001b[0mreplace\u001b[0m\u001b[0;34m=\u001b[0m\u001b[0;32mFalse\u001b[0m\u001b[0;34m,\u001b[0m \u001b[0mp\u001b[0m\u001b[0;34m=\u001b[0m\u001b[0;34m[\u001b[0m\u001b[0;36m0.1\u001b[0m\u001b[0;34m,\u001b[0m \u001b[0;36m0\u001b[0m\u001b[0;34m,\u001b[0m \u001b[0;36m0.3\u001b[0m\u001b[0;34m,\u001b[0m \u001b[0;36m0.6\u001b[0m\u001b[0;34m,\u001b[0m \u001b[0;36m0\u001b[0m\u001b[0;34m]\u001b[0m\u001b[0;34m)\u001b[0m\u001b[0;34m\u001b[0m\u001b[0;34m\u001b[0m\u001b[0m\n",
            "\u001b[0;32mmtrand.pyx\u001b[0m in \u001b[0;36mnumpy.random.mtrand.RandomState.choice\u001b[0;34m()\u001b[0m\n",
            "\u001b[0;31mTypeError\u001b[0m: object of type 'int' has no len()"
          ]
        }
      ]
    },
    {
      "cell_type": "markdown",
      "metadata": {
        "id": "E49i11Xa1P1i"
      },
      "source": [
        "## 2. Pandas \n",
        "\n",
        "Pandas es la librería más conocida de Python para manipular y analizar datos. Está montada sobre NumPy, por lo cual muchas funcionalidades son similares. Utilizaremos Pandas para trabajar con datasets estructurados (y bueno, ¡bastante más!). \n",
        "\n",
        "Así como NumPy nos proveé de los *arreglos* y con ellos accedemos a muchas nuevas funcionalidades, Pandas nos provee de los *Data Frames* y las *Series*. Por lejos, el objeto más utilizados es el primero, los Data Frames. \n",
        "\n",
        "\n",
        "En esta sección empezaremos a:\n",
        "\n",
        "1. Familiarizarnos con los Data Frames de Pandas, manipular sus funciones básicas y entender la lógica de las mismas (¡para después googlearlas!).\n",
        "2. Empezar a trabajar con Datasets.\n",
        "\n",
        "**¡Manos a la obra!**\n",
        "\n",
        "### 2.1 Primeros pasos\n",
        "\n",
        "Importamos la librería."
      ]
    },
    {
      "cell_type": "code",
      "metadata": {
        "id": "j24h6xmv1P1o"
      },
      "source": [
        "import pandas as pd"
      ],
      "execution_count": 61,
      "outputs": []
    },
    {
      "cell_type": "markdown",
      "metadata": {
        "id": "FyLT8HgC1P11"
      },
      "source": [
        "Vamos a crear nuestro propio dataset. Es decir, agarrar a mano los datos poblacionales de http://www.ign.gob.ar/nuestrasactividades/geografia/datosargentina/divisionpolitica y guardarlos en una variable `data_dic`.¿Qué tipo de variable es, desde el punto de vista de la programación?\n",
        "\n",
        "**Nota**: la población está en número de habitantes y la superficie en km2."
      ]
    },
    {
      "cell_type": "code",
      "metadata": {
        "id": "WQq6LK041P17"
      },
      "source": [
        "data_dic = {\"Jurisdiccion\":[\"CABA\",\"Buenos Aires\",\"Catamarca\",\"Chaco\",\"Chubut\",\"Córdoba\",\"Jujuy\",\"Mendoza\",\"Misiones\",\"Río Negro\",\"Santa Cruz\",\n",
        "                           \"Santa Fe\"],\"Poblacion\":[2890151,15625084,367828,1055259,509108,3308876,673307,1738929,\n",
        "                                                   1101593,638645,273964,3194537],\"Superficie\":\n",
        "           [200,307521,102606,99633,509108,165321,53219,148827,29801,203013,243943,133007]}\n",
        "\n"
      ],
      "execution_count": 148,
      "outputs": []
    },
    {
      "cell_type": "markdown",
      "metadata": {
        "id": "rGxjjI1c1P2H"
      },
      "source": [
        "Así como podemos crear arreglos a partir de listas, podemos crear Data Frames a partir de diccionarios."
      ]
    },
    {
      "cell_type": "code",
      "metadata": {
        "id": "0SMR3d331P2L",
        "colab": {
          "base_uri": "https://localhost:8080/",
          "height": 407
        },
        "outputId": "1a95c7dd-615f-4e19-9303-0d1b77b70517"
      },
      "source": [
        "# Creamos el DataFrame\n",
        "data_pandas = pd.DataFrame(data_dic)\n",
        "data_pandas"
      ],
      "execution_count": 149,
      "outputs": [
        {
          "output_type": "execute_result",
          "data": {
            "text/html": [
              "<div>\n",
              "<style scoped>\n",
              "    .dataframe tbody tr th:only-of-type {\n",
              "        vertical-align: middle;\n",
              "    }\n",
              "\n",
              "    .dataframe tbody tr th {\n",
              "        vertical-align: top;\n",
              "    }\n",
              "\n",
              "    .dataframe thead th {\n",
              "        text-align: right;\n",
              "    }\n",
              "</style>\n",
              "<table border=\"1\" class=\"dataframe\">\n",
              "  <thead>\n",
              "    <tr style=\"text-align: right;\">\n",
              "      <th></th>\n",
              "      <th>Jurisdiccion</th>\n",
              "      <th>Poblacion</th>\n",
              "      <th>Superficie</th>\n",
              "    </tr>\n",
              "  </thead>\n",
              "  <tbody>\n",
              "    <tr>\n",
              "      <th>0</th>\n",
              "      <td>CABA</td>\n",
              "      <td>2890151</td>\n",
              "      <td>200</td>\n",
              "    </tr>\n",
              "    <tr>\n",
              "      <th>1</th>\n",
              "      <td>Buenos Aires</td>\n",
              "      <td>15625084</td>\n",
              "      <td>307521</td>\n",
              "    </tr>\n",
              "    <tr>\n",
              "      <th>2</th>\n",
              "      <td>Catamarca</td>\n",
              "      <td>367828</td>\n",
              "      <td>102606</td>\n",
              "    </tr>\n",
              "    <tr>\n",
              "      <th>3</th>\n",
              "      <td>Chaco</td>\n",
              "      <td>1055259</td>\n",
              "      <td>99633</td>\n",
              "    </tr>\n",
              "    <tr>\n",
              "      <th>4</th>\n",
              "      <td>Chubut</td>\n",
              "      <td>509108</td>\n",
              "      <td>509108</td>\n",
              "    </tr>\n",
              "    <tr>\n",
              "      <th>5</th>\n",
              "      <td>Córdoba</td>\n",
              "      <td>3308876</td>\n",
              "      <td>165321</td>\n",
              "    </tr>\n",
              "    <tr>\n",
              "      <th>6</th>\n",
              "      <td>Jujuy</td>\n",
              "      <td>673307</td>\n",
              "      <td>53219</td>\n",
              "    </tr>\n",
              "    <tr>\n",
              "      <th>7</th>\n",
              "      <td>Mendoza</td>\n",
              "      <td>1738929</td>\n",
              "      <td>148827</td>\n",
              "    </tr>\n",
              "    <tr>\n",
              "      <th>8</th>\n",
              "      <td>Misiones</td>\n",
              "      <td>1101593</td>\n",
              "      <td>29801</td>\n",
              "    </tr>\n",
              "    <tr>\n",
              "      <th>9</th>\n",
              "      <td>Río Negro</td>\n",
              "      <td>638645</td>\n",
              "      <td>203013</td>\n",
              "    </tr>\n",
              "    <tr>\n",
              "      <th>10</th>\n",
              "      <td>Santa Cruz</td>\n",
              "      <td>273964</td>\n",
              "      <td>243943</td>\n",
              "    </tr>\n",
              "    <tr>\n",
              "      <th>11</th>\n",
              "      <td>Santa Fe</td>\n",
              "      <td>3194537</td>\n",
              "      <td>133007</td>\n",
              "    </tr>\n",
              "  </tbody>\n",
              "</table>\n",
              "</div>"
            ],
            "text/plain": [
              "    Jurisdiccion  Poblacion  Superficie\n",
              "0           CABA    2890151         200\n",
              "1   Buenos Aires   15625084      307521\n",
              "2      Catamarca     367828      102606\n",
              "3          Chaco    1055259       99633\n",
              "4         Chubut     509108      509108\n",
              "5        Córdoba    3308876      165321\n",
              "6          Jujuy     673307       53219\n",
              "7        Mendoza    1738929      148827\n",
              "8       Misiones    1101593       29801\n",
              "9      Río Negro     638645      203013\n",
              "10    Santa Cruz     273964      243943\n",
              "11      Santa Fe    3194537      133007"
            ]
          },
          "metadata": {
            "tags": []
          },
          "execution_count": 149
        }
      ]
    },
    {
      "cell_type": "markdown",
      "metadata": {
        "id": "2UlnyR6O1P2d"
      },
      "source": [
        "**Ejercicio 1:** investigar las funciones que se implementan en la próxima celda. ¿Qué hacen? ¿Para qué piensan que pueden ser útiles?"
      ]
    },
    {
      "cell_type": "code",
      "metadata": {
        "id": "Y5wTHya41P2i"
      },
      "source": [
        " #data_pandas.head(3)#muestra los 3 primeros datos\n",
        "#data_pandas.tail(3)#muestra los 3 últimoos  datos\n",
        "#data_pandas.count()#conteo de datos\n",
        "#data_pandas.shape#conteo de filas y columnas\n"
      ],
      "execution_count": 115,
      "outputs": []
    },
    {
      "cell_type": "markdown",
      "metadata": {
        "id": "uozfwkNo1P2w"
      },
      "source": [
        "**Ejercicio 2:** agregar al Dataset la información correspondiente a alguna jurisdicción faltante. Recuerden que, al tratarse de una nueva instancia, corresponde a una fila. Pista: googlear \"add row to pandas dataframe\" o similar. No hay una única forma de hacerlo."
      ]
    },
    {
      "cell_type": "code",
      "metadata": {
        "id": "i__cR4Hh1P2z",
        "colab": {
          "base_uri": "https://localhost:8080/",
          "height": 437
        },
        "outputId": "262eceb2-d22f-40b8-8653-8314390b3769"
      },
      "source": [
        "# COMPLETAR\n",
        "\n",
        "data_dic2 = {\"Jurisdiccion\":[\"Cali\"],\"Poblacion\":[12341],\"Superficie\":\n",
        "           [123424]}\n",
        "data_dic2\n",
        "data_pandas1 = pd.DataFrame(data_dic2)\n",
        "data_pandas1\n",
        "data_pandas.append(data_pandas1, ignore_index=True)"
      ],
      "execution_count": 150,
      "outputs": [
        {
          "output_type": "execute_result",
          "data": {
            "text/html": [
              "<div>\n",
              "<style scoped>\n",
              "    .dataframe tbody tr th:only-of-type {\n",
              "        vertical-align: middle;\n",
              "    }\n",
              "\n",
              "    .dataframe tbody tr th {\n",
              "        vertical-align: top;\n",
              "    }\n",
              "\n",
              "    .dataframe thead th {\n",
              "        text-align: right;\n",
              "    }\n",
              "</style>\n",
              "<table border=\"1\" class=\"dataframe\">\n",
              "  <thead>\n",
              "    <tr style=\"text-align: right;\">\n",
              "      <th></th>\n",
              "      <th>Jurisdiccion</th>\n",
              "      <th>Poblacion</th>\n",
              "      <th>Superficie</th>\n",
              "    </tr>\n",
              "  </thead>\n",
              "  <tbody>\n",
              "    <tr>\n",
              "      <th>0</th>\n",
              "      <td>CABA</td>\n",
              "      <td>2890151</td>\n",
              "      <td>200</td>\n",
              "    </tr>\n",
              "    <tr>\n",
              "      <th>1</th>\n",
              "      <td>Buenos Aires</td>\n",
              "      <td>15625084</td>\n",
              "      <td>307521</td>\n",
              "    </tr>\n",
              "    <tr>\n",
              "      <th>2</th>\n",
              "      <td>Catamarca</td>\n",
              "      <td>367828</td>\n",
              "      <td>102606</td>\n",
              "    </tr>\n",
              "    <tr>\n",
              "      <th>3</th>\n",
              "      <td>Chaco</td>\n",
              "      <td>1055259</td>\n",
              "      <td>99633</td>\n",
              "    </tr>\n",
              "    <tr>\n",
              "      <th>4</th>\n",
              "      <td>Chubut</td>\n",
              "      <td>509108</td>\n",
              "      <td>509108</td>\n",
              "    </tr>\n",
              "    <tr>\n",
              "      <th>5</th>\n",
              "      <td>Córdoba</td>\n",
              "      <td>3308876</td>\n",
              "      <td>165321</td>\n",
              "    </tr>\n",
              "    <tr>\n",
              "      <th>6</th>\n",
              "      <td>Jujuy</td>\n",
              "      <td>673307</td>\n",
              "      <td>53219</td>\n",
              "    </tr>\n",
              "    <tr>\n",
              "      <th>7</th>\n",
              "      <td>Mendoza</td>\n",
              "      <td>1738929</td>\n",
              "      <td>148827</td>\n",
              "    </tr>\n",
              "    <tr>\n",
              "      <th>8</th>\n",
              "      <td>Misiones</td>\n",
              "      <td>1101593</td>\n",
              "      <td>29801</td>\n",
              "    </tr>\n",
              "    <tr>\n",
              "      <th>9</th>\n",
              "      <td>Río Negro</td>\n",
              "      <td>638645</td>\n",
              "      <td>203013</td>\n",
              "    </tr>\n",
              "    <tr>\n",
              "      <th>10</th>\n",
              "      <td>Santa Cruz</td>\n",
              "      <td>273964</td>\n",
              "      <td>243943</td>\n",
              "    </tr>\n",
              "    <tr>\n",
              "      <th>11</th>\n",
              "      <td>Santa Fe</td>\n",
              "      <td>3194537</td>\n",
              "      <td>133007</td>\n",
              "    </tr>\n",
              "    <tr>\n",
              "      <th>12</th>\n",
              "      <td>Cali</td>\n",
              "      <td>12341</td>\n",
              "      <td>123424</td>\n",
              "    </tr>\n",
              "  </tbody>\n",
              "</table>\n",
              "</div>"
            ],
            "text/plain": [
              "    Jurisdiccion  Poblacion  Superficie\n",
              "0           CABA    2890151         200\n",
              "1   Buenos Aires   15625084      307521\n",
              "2      Catamarca     367828      102606\n",
              "3          Chaco    1055259       99633\n",
              "4         Chubut     509108      509108\n",
              "5        Córdoba    3308876      165321\n",
              "6          Jujuy     673307       53219\n",
              "7        Mendoza    1738929      148827\n",
              "8       Misiones    1101593       29801\n",
              "9      Río Negro     638645      203013\n",
              "10    Santa Cruz     273964      243943\n",
              "11      Santa Fe    3194537      133007\n",
              "12          Cali      12341      123424"
            ]
          },
          "metadata": {
            "tags": []
          },
          "execution_count": 150
        }
      ]
    },
    {
      "cell_type": "markdown",
      "metadata": {
        "id": "3XnYJjid1P2_"
      },
      "source": [
        "**Ejercicio 3:** Investigar las funciones columns e index. ¿Qué hacen? ¿Qué tipo de dato es su salida?¿A qué tipo de dato conocido se parecen?"
      ]
    },
    {
      "cell_type": "code",
      "metadata": {
        "id": "3TypUl1A1P3B"
      },
      "source": [
        " #data_pandas.columns#nombre de las columnas\n",
        " #data_pandas.index#inicio parada y paso\n",
        " #data_pandas['Jurisdiccion']"
      ],
      "execution_count": 134,
      "outputs": []
    },
    {
      "cell_type": "markdown",
      "metadata": {
        "id": "EK-iDt4a1P3M"
      },
      "source": [
        "**Ejercicio 4:** ¿Qué hacen las siguientes operaciones?"
      ]
    },
    {
      "cell_type": "code",
      "metadata": {
        "id": "UAg6Cz5v1P3P",
        "colab": {
          "base_uri": "https://localhost:8080/"
        },
        "outputId": "f9602102-aaca-4689-ddd1-36848171035f"
      },
      "source": [
        " #data_pandas['Jurisdiccion']\n",
        "#data_pandas[['Jurisdiccion','Poblacion']]#para sacar dos columnas\n",
        "#data_pandas.Jurisdiccion#es igual a la anterior \n",
        "#'Poblacion' in data_pandas #población esta en pandas? "
      ],
      "execution_count": 133,
      "outputs": [
        {
          "output_type": "execute_result",
          "data": {
            "text/plain": [
              "0             CABA\n",
              "1     Buenos Aires\n",
              "2        Catamarca\n",
              "3            Chaco\n",
              "4           Chubut\n",
              "5          Córdoba\n",
              "6            Jujuy\n",
              "7          Mendoza\n",
              "8         Misiones\n",
              "9        Río Negro\n",
              "10      Santa Cruz\n",
              "11        Santa Fe\n",
              "Name: Jurisdiccion, dtype: object"
            ]
          },
          "metadata": {
            "tags": []
          },
          "execution_count": 133
        }
      ]
    },
    {
      "cell_type": "markdown",
      "metadata": {
        "id": "osTgGkDJ1P3X"
      },
      "source": [
        "**Ejercicio 5:** Agregar una columna al dataframe que corresponda a la densidad de cada jurisdicción. Usar la información que **ya está** en el dataset."
      ]
    },
    {
      "cell_type": "code",
      "metadata": {
        "id": "8E5lnSqG1P3c",
        "colab": {
          "base_uri": "https://localhost:8080/",
          "height": 407
        },
        "outputId": "18f9c76d-1966-470e-9104-a6232f2048c6"
      },
      "source": [
        "# COMPLETAR\n",
        "\n",
        "data_pandas.insert(4, \"rios\", [3,4,1,12,3,43,2,3,4,3,5,6], True)\n",
        "data_pandas"
      ],
      "execution_count": 152,
      "outputs": [
        {
          "output_type": "execute_result",
          "data": {
            "text/html": [
              "<div>\n",
              "<style scoped>\n",
              "    .dataframe tbody tr th:only-of-type {\n",
              "        vertical-align: middle;\n",
              "    }\n",
              "\n",
              "    .dataframe tbody tr th {\n",
              "        vertical-align: top;\n",
              "    }\n",
              "\n",
              "    .dataframe thead th {\n",
              "        text-align: right;\n",
              "    }\n",
              "</style>\n",
              "<table border=\"1\" class=\"dataframe\">\n",
              "  <thead>\n",
              "    <tr style=\"text-align: right;\">\n",
              "      <th></th>\n",
              "      <th>Jurisdiccion</th>\n",
              "      <th>rios</th>\n",
              "      <th>Poblacion</th>\n",
              "      <th>Superficie</th>\n",
              "      <th>rios</th>\n",
              "    </tr>\n",
              "  </thead>\n",
              "  <tbody>\n",
              "    <tr>\n",
              "      <th>0</th>\n",
              "      <td>CABA</td>\n",
              "      <td>3</td>\n",
              "      <td>2890151</td>\n",
              "      <td>200</td>\n",
              "      <td>3</td>\n",
              "    </tr>\n",
              "    <tr>\n",
              "      <th>1</th>\n",
              "      <td>Buenos Aires</td>\n",
              "      <td>4</td>\n",
              "      <td>15625084</td>\n",
              "      <td>307521</td>\n",
              "      <td>4</td>\n",
              "    </tr>\n",
              "    <tr>\n",
              "      <th>2</th>\n",
              "      <td>Catamarca</td>\n",
              "      <td>1</td>\n",
              "      <td>367828</td>\n",
              "      <td>102606</td>\n",
              "      <td>1</td>\n",
              "    </tr>\n",
              "    <tr>\n",
              "      <th>3</th>\n",
              "      <td>Chaco</td>\n",
              "      <td>12</td>\n",
              "      <td>1055259</td>\n",
              "      <td>99633</td>\n",
              "      <td>12</td>\n",
              "    </tr>\n",
              "    <tr>\n",
              "      <th>4</th>\n",
              "      <td>Chubut</td>\n",
              "      <td>3</td>\n",
              "      <td>509108</td>\n",
              "      <td>509108</td>\n",
              "      <td>3</td>\n",
              "    </tr>\n",
              "    <tr>\n",
              "      <th>5</th>\n",
              "      <td>Córdoba</td>\n",
              "      <td>43</td>\n",
              "      <td>3308876</td>\n",
              "      <td>165321</td>\n",
              "      <td>43</td>\n",
              "    </tr>\n",
              "    <tr>\n",
              "      <th>6</th>\n",
              "      <td>Jujuy</td>\n",
              "      <td>2</td>\n",
              "      <td>673307</td>\n",
              "      <td>53219</td>\n",
              "      <td>2</td>\n",
              "    </tr>\n",
              "    <tr>\n",
              "      <th>7</th>\n",
              "      <td>Mendoza</td>\n",
              "      <td>3</td>\n",
              "      <td>1738929</td>\n",
              "      <td>148827</td>\n",
              "      <td>3</td>\n",
              "    </tr>\n",
              "    <tr>\n",
              "      <th>8</th>\n",
              "      <td>Misiones</td>\n",
              "      <td>4</td>\n",
              "      <td>1101593</td>\n",
              "      <td>29801</td>\n",
              "      <td>4</td>\n",
              "    </tr>\n",
              "    <tr>\n",
              "      <th>9</th>\n",
              "      <td>Río Negro</td>\n",
              "      <td>3</td>\n",
              "      <td>638645</td>\n",
              "      <td>203013</td>\n",
              "      <td>3</td>\n",
              "    </tr>\n",
              "    <tr>\n",
              "      <th>10</th>\n",
              "      <td>Santa Cruz</td>\n",
              "      <td>5</td>\n",
              "      <td>273964</td>\n",
              "      <td>243943</td>\n",
              "      <td>5</td>\n",
              "    </tr>\n",
              "    <tr>\n",
              "      <th>11</th>\n",
              "      <td>Santa Fe</td>\n",
              "      <td>6</td>\n",
              "      <td>3194537</td>\n",
              "      <td>133007</td>\n",
              "      <td>6</td>\n",
              "    </tr>\n",
              "  </tbody>\n",
              "</table>\n",
              "</div>"
            ],
            "text/plain": [
              "    Jurisdiccion  rios  Poblacion  Superficie  rios\n",
              "0           CABA     3    2890151         200     3\n",
              "1   Buenos Aires     4   15625084      307521     4\n",
              "2      Catamarca     1     367828      102606     1\n",
              "3          Chaco    12    1055259       99633    12\n",
              "4         Chubut     3     509108      509108     3\n",
              "5        Córdoba    43    3308876      165321    43\n",
              "6          Jujuy     2     673307       53219     2\n",
              "7        Mendoza     3    1738929      148827     3\n",
              "8       Misiones     4    1101593       29801     4\n",
              "9      Río Negro     3     638645      203013     3\n",
              "10    Santa Cruz     5     273964      243943     5\n",
              "11      Santa Fe     6    3194537      133007     6"
            ]
          },
          "metadata": {
            "tags": []
          },
          "execution_count": 152
        }
      ]
    },
    {
      "cell_type": "markdown",
      "metadata": {
        "id": "svpqtSdf1P3l"
      },
      "source": [
        "### 2.2 Filtrado por máscara.\n",
        "\n",
        "Lo que veremos a continuación es **muy importante**, ya que es una operación que haremos muchas veces. Su implementación es muy parecida tanto en NumPy como en Pandas, por lo que veremos cómo hacerlo primero en NumPy luego en Pandas.\n",
        "\n",
        "Supongamos que hacemos 50 tiradas de un dado, como hicimos en la sección anterior, pero queremos seleccionar solamente aquellas tiradas que fueron menores que cuatro. ¿Cómo podemos hacerlo?"
      ]
    },
    {
      "cell_type": "code",
      "metadata": {
        "id": "w5IZFKI_1P3o",
        "colab": {
          "base_uri": "https://localhost:8080/"
        },
        "outputId": "522453b4-275d-4a4b-814d-7213f72e3d61"
      },
      "source": [
        "muestras_dado = np.random.randint(1,7, size = 50)\n",
        "print(muestras_dado)"
      ],
      "execution_count": 153,
      "outputs": [
        {
          "output_type": "stream",
          "text": [
            "[4 4 3 6 4 4 4 2 1 2 5 1 6 5 6 3 5 4 6 2 4 3 6 4 1 4 4 2 1 2 6 5 4 5 2 5 1\n",
            " 2 1 6 5 5 4 1 2 1 6 5 2 4]\n"
          ],
          "name": "stdout"
        }
      ]
    },
    {
      "cell_type": "markdown",
      "metadata": {
        "id": "0QEABcgZ1P3y"
      },
      "source": [
        "Lo que podemos hacer es crear una máscara:"
      ]
    },
    {
      "cell_type": "code",
      "metadata": {
        "id": "STxwWNOi1P32",
        "colab": {
          "base_uri": "https://localhost:8080/"
        },
        "outputId": "e39272cc-7562-415f-9b20-a71479919ae9"
      },
      "source": [
        "mascara = muestras_dado < 4\n",
        "print(mascara)\n",
        "print(type(mascara))"
      ],
      "execution_count": 154,
      "outputs": [
        {
          "output_type": "stream",
          "text": [
            "[False False  True False False False False  True  True  True False  True\n",
            " False False False  True False False False  True False  True False False\n",
            "  True False False  True  True  True False False False False  True False\n",
            "  True  True  True False False False False  True  True  True False False\n",
            "  True False]\n",
            "<class 'numpy.ndarray'>\n"
          ],
          "name": "stdout"
        }
      ]
    },
    {
      "cell_type": "markdown",
      "metadata": {
        "id": "IuAkOYoe1P4B"
      },
      "source": [
        "Notar que `mascara` es un arreglo de booleanos, con `True` en los valores que cumplen la condición y `False` donde no. Una vez que creamos la máscara, podemos usarla para seleccionar de nuestro arreglo aquellos elementos que queríamos:"
      ]
    },
    {
      "cell_type": "code",
      "metadata": {
        "id": "Cw8ZM97f1P4D",
        "colab": {
          "base_uri": "https://localhost:8080/"
        },
        "outputId": "91b70b93-2edb-4588-8938-df533057ac0b"
      },
      "source": [
        "print(muestras_dado[mascara])"
      ],
      "execution_count": 155,
      "outputs": [
        {
          "output_type": "stream",
          "text": [
            "[3 2 1 2 1 3 2 3 1 2 1 2 2 1 2 1 1 2 1 2]\n"
          ],
          "name": "stdout"
        }
      ]
    },
    {
      "cell_type": "markdown",
      "metadata": {
        "id": "0rjN7J3A1P4M"
      },
      "source": [
        "Notar que con `mascara.sum()` podemos contar cuántas veces se cumple la condición que pedimos."
      ]
    },
    {
      "cell_type": "code",
      "metadata": {
        "id": "cUHV-_OC1P4Q",
        "colab": {
          "base_uri": "https://localhost:8080/"
        },
        "outputId": "00addf50-5dae-43b6-a4e9-325c80952acf"
      },
      "source": [
        "print(mascara.sum())"
      ],
      "execution_count": 156,
      "outputs": [
        {
          "output_type": "stream",
          "text": [
            "20\n"
          ],
          "name": "stdout"
        }
      ]
    },
    {
      "cell_type": "markdown",
      "metadata": {
        "id": "UosUz_mI1P4X"
      },
      "source": [
        "A veces, podemos hacerlo en una sola línea. Supongamos que queremos aquellas tiradas donde salió seis:"
      ]
    },
    {
      "cell_type": "code",
      "metadata": {
        "id": "do9s_9vn1P4Y",
        "colab": {
          "base_uri": "https://localhost:8080/"
        },
        "outputId": "fc126347-d8fb-4967-a439-610e2ba3a90c"
      },
      "source": [
        "print(muestras_dado[muestras_dado == 6])"
      ],
      "execution_count": 157,
      "outputs": [
        {
          "output_type": "stream",
          "text": [
            "[6 6 6 6 6 6 6 6]\n"
          ],
          "name": "stdout"
        }
      ]
    },
    {
      "cell_type": "markdown",
      "metadata": {
        "id": "ZI1fVYFf1P4g"
      },
      "source": [
        "**En Pandas**\n",
        "\n",
        "Supongamos que queremos seleccionar aquellas jurisdicciones cuya población sea mayor a un millón de habitantes. Podemos hacerlo de la siguiente forma:"
      ]
    },
    {
      "cell_type": "code",
      "metadata": {
        "id": "n2sWVVBz1P4i",
        "colab": {
          "base_uri": "https://localhost:8080/",
          "height": 257
        },
        "outputId": "3abbdd47-8c47-4374-d1ad-4419163ed146"
      },
      "source": [
        "data_pandas[data_pandas.Poblacion > 1000000]"
      ],
      "execution_count": 158,
      "outputs": [
        {
          "output_type": "execute_result",
          "data": {
            "text/html": [
              "<div>\n",
              "<style scoped>\n",
              "    .dataframe tbody tr th:only-of-type {\n",
              "        vertical-align: middle;\n",
              "    }\n",
              "\n",
              "    .dataframe tbody tr th {\n",
              "        vertical-align: top;\n",
              "    }\n",
              "\n",
              "    .dataframe thead th {\n",
              "        text-align: right;\n",
              "    }\n",
              "</style>\n",
              "<table border=\"1\" class=\"dataframe\">\n",
              "  <thead>\n",
              "    <tr style=\"text-align: right;\">\n",
              "      <th></th>\n",
              "      <th>Jurisdiccion</th>\n",
              "      <th>rios</th>\n",
              "      <th>Poblacion</th>\n",
              "      <th>Superficie</th>\n",
              "      <th>rios</th>\n",
              "    </tr>\n",
              "  </thead>\n",
              "  <tbody>\n",
              "    <tr>\n",
              "      <th>0</th>\n",
              "      <td>CABA</td>\n",
              "      <td>3</td>\n",
              "      <td>2890151</td>\n",
              "      <td>200</td>\n",
              "      <td>3</td>\n",
              "    </tr>\n",
              "    <tr>\n",
              "      <th>1</th>\n",
              "      <td>Buenos Aires</td>\n",
              "      <td>4</td>\n",
              "      <td>15625084</td>\n",
              "      <td>307521</td>\n",
              "      <td>4</td>\n",
              "    </tr>\n",
              "    <tr>\n",
              "      <th>3</th>\n",
              "      <td>Chaco</td>\n",
              "      <td>12</td>\n",
              "      <td>1055259</td>\n",
              "      <td>99633</td>\n",
              "      <td>12</td>\n",
              "    </tr>\n",
              "    <tr>\n",
              "      <th>5</th>\n",
              "      <td>Córdoba</td>\n",
              "      <td>43</td>\n",
              "      <td>3308876</td>\n",
              "      <td>165321</td>\n",
              "      <td>43</td>\n",
              "    </tr>\n",
              "    <tr>\n",
              "      <th>7</th>\n",
              "      <td>Mendoza</td>\n",
              "      <td>3</td>\n",
              "      <td>1738929</td>\n",
              "      <td>148827</td>\n",
              "      <td>3</td>\n",
              "    </tr>\n",
              "    <tr>\n",
              "      <th>8</th>\n",
              "      <td>Misiones</td>\n",
              "      <td>4</td>\n",
              "      <td>1101593</td>\n",
              "      <td>29801</td>\n",
              "      <td>4</td>\n",
              "    </tr>\n",
              "    <tr>\n",
              "      <th>11</th>\n",
              "      <td>Santa Fe</td>\n",
              "      <td>6</td>\n",
              "      <td>3194537</td>\n",
              "      <td>133007</td>\n",
              "      <td>6</td>\n",
              "    </tr>\n",
              "  </tbody>\n",
              "</table>\n",
              "</div>"
            ],
            "text/plain": [
              "    Jurisdiccion  rios  Poblacion  Superficie  rios\n",
              "0           CABA     3    2890151         200     3\n",
              "1   Buenos Aires     4   15625084      307521     4\n",
              "3          Chaco    12    1055259       99633    12\n",
              "5        Córdoba    43    3308876      165321    43\n",
              "7        Mendoza     3    1738929      148827     3\n",
              "8       Misiones     4    1101593       29801     4\n",
              "11      Santa Fe     6    3194537      133007     6"
            ]
          },
          "metadata": {
            "tags": []
          },
          "execution_count": 158
        }
      ]
    },
    {
      "cell_type": "markdown",
      "metadata": {
        "id": "pZo21ebL1P5G"
      },
      "source": [
        "¿Y si queremos seleccionar aquellas jurisdicciones cuya población sea mayor a un millón de habitantes **y** su superficie menor a cien mil km2?"
      ]
    },
    {
      "cell_type": "code",
      "metadata": {
        "id": "Gia9i3AB1P5L",
        "colab": {
          "base_uri": "https://localhost:8080/",
          "height": 137
        },
        "outputId": "52d87661-7f0b-4a55-c3f6-8bd2c1cc5a95"
      },
      "source": [
        "mascara = np.logical_and(data_pandas.Poblacion > 1000000, data_pandas.Superficie < 100000)\n",
        "data_pandas[mascara]\n",
        "\n",
        "### Es equivalente\n",
        "# data_pandas[(data_pandas.Poblacion > 1000000) & (data_pandas.Superficie < 100000)]"
      ],
      "execution_count": 159,
      "outputs": [
        {
          "output_type": "execute_result",
          "data": {
            "text/html": [
              "<div>\n",
              "<style scoped>\n",
              "    .dataframe tbody tr th:only-of-type {\n",
              "        vertical-align: middle;\n",
              "    }\n",
              "\n",
              "    .dataframe tbody tr th {\n",
              "        vertical-align: top;\n",
              "    }\n",
              "\n",
              "    .dataframe thead th {\n",
              "        text-align: right;\n",
              "    }\n",
              "</style>\n",
              "<table border=\"1\" class=\"dataframe\">\n",
              "  <thead>\n",
              "    <tr style=\"text-align: right;\">\n",
              "      <th></th>\n",
              "      <th>Jurisdiccion</th>\n",
              "      <th>rios</th>\n",
              "      <th>Poblacion</th>\n",
              "      <th>Superficie</th>\n",
              "      <th>rios</th>\n",
              "    </tr>\n",
              "  </thead>\n",
              "  <tbody>\n",
              "    <tr>\n",
              "      <th>0</th>\n",
              "      <td>CABA</td>\n",
              "      <td>3</td>\n",
              "      <td>2890151</td>\n",
              "      <td>200</td>\n",
              "      <td>3</td>\n",
              "    </tr>\n",
              "    <tr>\n",
              "      <th>3</th>\n",
              "      <td>Chaco</td>\n",
              "      <td>12</td>\n",
              "      <td>1055259</td>\n",
              "      <td>99633</td>\n",
              "      <td>12</td>\n",
              "    </tr>\n",
              "    <tr>\n",
              "      <th>8</th>\n",
              "      <td>Misiones</td>\n",
              "      <td>4</td>\n",
              "      <td>1101593</td>\n",
              "      <td>29801</td>\n",
              "      <td>4</td>\n",
              "    </tr>\n",
              "  </tbody>\n",
              "</table>\n",
              "</div>"
            ],
            "text/plain": [
              "  Jurisdiccion  rios  Poblacion  Superficie  rios\n",
              "0         CABA     3    2890151         200     3\n",
              "3        Chaco    12    1055259       99633    12\n",
              "8     Misiones     4    1101593       29801     4"
            ]
          },
          "metadata": {
            "tags": []
          },
          "execution_count": 159
        }
      ]
    },
    {
      "cell_type": "markdown",
      "metadata": {
        "id": "Z057NM351P5W"
      },
      "source": [
        "**Ejercicio:** seleccionar aquellas jurisdicciones cuya población sea menor a 500 mil habitantes **o** su superficie mayor a cien mil km2."
      ]
    },
    {
      "cell_type": "code",
      "metadata": {
        "id": "EWJwPrS61P5Z",
        "colab": {
          "base_uri": "https://localhost:8080/",
          "height": 107
        },
        "outputId": "54d5e9f4-a93f-487a-a5e1-b0436b6e1359"
      },
      "source": [
        "# COMPLETAR\n",
        "mascara = np.logical_and(data_pandas.Poblacion < 500000, data_pandas.Superficie > 100000)\n",
        "data_pandas[mascara]"
      ],
      "execution_count": 160,
      "outputs": [
        {
          "output_type": "execute_result",
          "data": {
            "text/html": [
              "<div>\n",
              "<style scoped>\n",
              "    .dataframe tbody tr th:only-of-type {\n",
              "        vertical-align: middle;\n",
              "    }\n",
              "\n",
              "    .dataframe tbody tr th {\n",
              "        vertical-align: top;\n",
              "    }\n",
              "\n",
              "    .dataframe thead th {\n",
              "        text-align: right;\n",
              "    }\n",
              "</style>\n",
              "<table border=\"1\" class=\"dataframe\">\n",
              "  <thead>\n",
              "    <tr style=\"text-align: right;\">\n",
              "      <th></th>\n",
              "      <th>Jurisdiccion</th>\n",
              "      <th>rios</th>\n",
              "      <th>Poblacion</th>\n",
              "      <th>Superficie</th>\n",
              "      <th>rios</th>\n",
              "    </tr>\n",
              "  </thead>\n",
              "  <tbody>\n",
              "    <tr>\n",
              "      <th>2</th>\n",
              "      <td>Catamarca</td>\n",
              "      <td>1</td>\n",
              "      <td>367828</td>\n",
              "      <td>102606</td>\n",
              "      <td>1</td>\n",
              "    </tr>\n",
              "    <tr>\n",
              "      <th>10</th>\n",
              "      <td>Santa Cruz</td>\n",
              "      <td>5</td>\n",
              "      <td>273964</td>\n",
              "      <td>243943</td>\n",
              "      <td>5</td>\n",
              "    </tr>\n",
              "  </tbody>\n",
              "</table>\n",
              "</div>"
            ],
            "text/plain": [
              "   Jurisdiccion  rios  Poblacion  Superficie  rios\n",
              "2     Catamarca     1     367828      102606     1\n",
              "10   Santa Cruz     5     273964      243943     5"
            ]
          },
          "metadata": {
            "tags": []
          },
          "execution_count": 160
        }
      ]
    },
    {
      "cell_type": "markdown",
      "metadata": {
        "id": "H1nzSLbJ1P5g"
      },
      "source": [
        "## 2.3 Iris dataset\n",
        "\n",
        "¿Pero siempre vamos a tener que crear un diccionario y luego pasarlo a un Data Frame? Evidentemente, esta opción no parece muy cómoda, en particular para conjuntos de datos de gran volumen. Veamos cómo trabajamos con un conjunto de datos preexistente.\n",
        "\n",
        "\n",
        "**Aviso**: Esta sección es, en realidad, un ejercicio. Para hacerlo, debes ir googleando y consultando la documentación que consideres apropiada. Obviamente, también puedes consultar a tu mentor/a.\n",
        "\n",
        "Vamos a trabajar con el Iris Dataset, probablemente uno de los conjuntos de datos más famosos, ya que muchos ejemplos se realizan con él. Es un dataset sencillo pero ilustrativo.\n",
        "\n",
        "\n",
        "1. Abrir con Pandas el archivo 'DS_Bitácora_04_iris.csv' (¿Qué tipo de archivo es?) e imprimir sus primeros cinco elementos. Pista: `pd.read...()`."
      ]
    },
    {
      "cell_type": "code",
      "metadata": {
        "id": "c6WItGqC1P5i"
      },
      "source": [
        "# COMPLETAR\n",
        "mi_primer_data=pd.read_csv(\"/ds_04_Iris.csv\")"
      ],
      "execution_count": 167,
      "outputs": []
    },
    {
      "cell_type": "markdown",
      "metadata": {
        "id": "IcsJiYe31P5p"
      },
      "source": [
        "2. ¿Cuántas columnas (features) tiene?¿Cuáles son sus nombres?¿Y cuántas filas (instancias)? Pistas: `shape`, `columns`."
      ]
    },
    {
      "cell_type": "code",
      "metadata": {
        "id": "BqDWhNM51P5r",
        "colab": {
          "base_uri": "https://localhost:8080/"
        },
        "outputId": "cd2bf653-719f-4325-c03a-0edd542eb4a4"
      },
      "source": [
        "# COMPLETAR\n",
        "print(mi_primer_data.shape)\n",
        "\n",
        "mi_primer_data.columns"
      ],
      "execution_count": 173,
      "outputs": [
        {
          "output_type": "stream",
          "text": [
            "(150, 6)\n"
          ],
          "name": "stdout"
        },
        {
          "output_type": "execute_result",
          "data": {
            "text/plain": [
              "Index(['Id', 'SepalLengthCm', 'SepalWidthCm', 'PetalLengthCm', 'PetalWidthCm',\n",
              "       'Species'],\n",
              "      dtype='object')"
            ]
          },
          "metadata": {
            "tags": []
          },
          "execution_count": 173
        }
      ]
    },
    {
      "cell_type": "markdown",
      "metadata": {
        "id": "LnO-Yoyh1P50"
      },
      "source": [
        "3. Obtener el valor medio y desviación estándar de cada columna. ¿Hay alguna función de Pandas que nos dé aún más estadísticos? Pistas: `describe`."
      ]
    },
    {
      "cell_type": "code",
      "metadata": {
        "id": "wTPFg2yT1P52",
        "colab": {
          "base_uri": "https://localhost:8080/",
          "height": 406
        },
        "outputId": "6e856fe5-956b-462d-9a5b-47024a5b2654"
      },
      "source": [
        "# COMPLETAR\n",
        "mi_primer_data.describe()\n",
        "mi_primer_data"
      ],
      "execution_count": 182,
      "outputs": [
        {
          "output_type": "execute_result",
          "data": {
            "text/html": [
              "<div>\n",
              "<style scoped>\n",
              "    .dataframe tbody tr th:only-of-type {\n",
              "        vertical-align: middle;\n",
              "    }\n",
              "\n",
              "    .dataframe tbody tr th {\n",
              "        vertical-align: top;\n",
              "    }\n",
              "\n",
              "    .dataframe thead th {\n",
              "        text-align: right;\n",
              "    }\n",
              "</style>\n",
              "<table border=\"1\" class=\"dataframe\">\n",
              "  <thead>\n",
              "    <tr style=\"text-align: right;\">\n",
              "      <th></th>\n",
              "      <th>Id</th>\n",
              "      <th>SepalLengthCm</th>\n",
              "      <th>SepalWidthCm</th>\n",
              "      <th>PetalLengthCm</th>\n",
              "      <th>PetalWidthCm</th>\n",
              "      <th>Species</th>\n",
              "    </tr>\n",
              "  </thead>\n",
              "  <tbody>\n",
              "    <tr>\n",
              "      <th>0</th>\n",
              "      <td>1</td>\n",
              "      <td>5.1</td>\n",
              "      <td>3.5</td>\n",
              "      <td>1.4</td>\n",
              "      <td>0.2</td>\n",
              "      <td>Iris-setosa</td>\n",
              "    </tr>\n",
              "    <tr>\n",
              "      <th>1</th>\n",
              "      <td>2</td>\n",
              "      <td>4.9</td>\n",
              "      <td>3.0</td>\n",
              "      <td>1.4</td>\n",
              "      <td>0.2</td>\n",
              "      <td>Iris-setosa</td>\n",
              "    </tr>\n",
              "    <tr>\n",
              "      <th>2</th>\n",
              "      <td>3</td>\n",
              "      <td>4.7</td>\n",
              "      <td>3.2</td>\n",
              "      <td>1.3</td>\n",
              "      <td>0.2</td>\n",
              "      <td>Iris-setosa</td>\n",
              "    </tr>\n",
              "    <tr>\n",
              "      <th>3</th>\n",
              "      <td>4</td>\n",
              "      <td>4.6</td>\n",
              "      <td>3.1</td>\n",
              "      <td>1.5</td>\n",
              "      <td>0.2</td>\n",
              "      <td>Iris-setosa</td>\n",
              "    </tr>\n",
              "    <tr>\n",
              "      <th>4</th>\n",
              "      <td>5</td>\n",
              "      <td>5.0</td>\n",
              "      <td>3.6</td>\n",
              "      <td>1.4</td>\n",
              "      <td>0.2</td>\n",
              "      <td>Iris-setosa</td>\n",
              "    </tr>\n",
              "    <tr>\n",
              "      <th>...</th>\n",
              "      <td>...</td>\n",
              "      <td>...</td>\n",
              "      <td>...</td>\n",
              "      <td>...</td>\n",
              "      <td>...</td>\n",
              "      <td>...</td>\n",
              "    </tr>\n",
              "    <tr>\n",
              "      <th>145</th>\n",
              "      <td>146</td>\n",
              "      <td>6.7</td>\n",
              "      <td>3.0</td>\n",
              "      <td>5.2</td>\n",
              "      <td>2.3</td>\n",
              "      <td>Iris-virginica</td>\n",
              "    </tr>\n",
              "    <tr>\n",
              "      <th>146</th>\n",
              "      <td>147</td>\n",
              "      <td>6.3</td>\n",
              "      <td>2.5</td>\n",
              "      <td>5.0</td>\n",
              "      <td>1.9</td>\n",
              "      <td>Iris-virginica</td>\n",
              "    </tr>\n",
              "    <tr>\n",
              "      <th>147</th>\n",
              "      <td>148</td>\n",
              "      <td>6.5</td>\n",
              "      <td>3.0</td>\n",
              "      <td>5.2</td>\n",
              "      <td>2.0</td>\n",
              "      <td>Iris-virginica</td>\n",
              "    </tr>\n",
              "    <tr>\n",
              "      <th>148</th>\n",
              "      <td>149</td>\n",
              "      <td>6.2</td>\n",
              "      <td>3.4</td>\n",
              "      <td>5.4</td>\n",
              "      <td>2.3</td>\n",
              "      <td>Iris-virginica</td>\n",
              "    </tr>\n",
              "    <tr>\n",
              "      <th>149</th>\n",
              "      <td>150</td>\n",
              "      <td>5.9</td>\n",
              "      <td>3.0</td>\n",
              "      <td>5.1</td>\n",
              "      <td>1.8</td>\n",
              "      <td>Iris-virginica</td>\n",
              "    </tr>\n",
              "  </tbody>\n",
              "</table>\n",
              "<p>150 rows × 6 columns</p>\n",
              "</div>"
            ],
            "text/plain": [
              "      Id  SepalLengthCm  ...  PetalWidthCm         Species\n",
              "0      1            5.1  ...           0.2     Iris-setosa\n",
              "1      2            4.9  ...           0.2     Iris-setosa\n",
              "2      3            4.7  ...           0.2     Iris-setosa\n",
              "3      4            4.6  ...           0.2     Iris-setosa\n",
              "4      5            5.0  ...           0.2     Iris-setosa\n",
              "..   ...            ...  ...           ...             ...\n",
              "145  146            6.7  ...           2.3  Iris-virginica\n",
              "146  147            6.3  ...           1.9  Iris-virginica\n",
              "147  148            6.5  ...           2.0  Iris-virginica\n",
              "148  149            6.2  ...           2.3  Iris-virginica\n",
              "149  150            5.9  ...           1.8  Iris-virginica\n",
              "\n",
              "[150 rows x 6 columns]"
            ]
          },
          "metadata": {
            "tags": []
          },
          "execution_count": 182
        }
      ]
    },
    {
      "cell_type": "markdown",
      "metadata": {
        "id": "h0hQVgt21P58"
      },
      "source": [
        "4. ¿Creen que todas las columnas tienen información? *Tirar* la columna que crean que está demás. Dependiendo de la función que uses - hay más de una opción -, tal vez tengas que prestar **mucha** atención al argumento `inplace`. Pista: `drop`, `del`."
      ]
    },
    {
      "cell_type": "code",
      "metadata": {
        "id": "FMWb9yIz1P5_",
        "colab": {
          "base_uri": "https://localhost:8080/",
          "height": 406
        },
        "outputId": "a3bac099-7e0f-4987-b0ad-142121b48012"
      },
      "source": [
        "# COMPLETAR\n",
        "mi_primer_data.drop(['Id'],axis=1)"
      ],
      "execution_count": 186,
      "outputs": [
        {
          "output_type": "execute_result",
          "data": {
            "text/html": [
              "<div>\n",
              "<style scoped>\n",
              "    .dataframe tbody tr th:only-of-type {\n",
              "        vertical-align: middle;\n",
              "    }\n",
              "\n",
              "    .dataframe tbody tr th {\n",
              "        vertical-align: top;\n",
              "    }\n",
              "\n",
              "    .dataframe thead th {\n",
              "        text-align: right;\n",
              "    }\n",
              "</style>\n",
              "<table border=\"1\" class=\"dataframe\">\n",
              "  <thead>\n",
              "    <tr style=\"text-align: right;\">\n",
              "      <th></th>\n",
              "      <th>SepalLengthCm</th>\n",
              "      <th>SepalWidthCm</th>\n",
              "      <th>PetalLengthCm</th>\n",
              "      <th>PetalWidthCm</th>\n",
              "      <th>Species</th>\n",
              "    </tr>\n",
              "  </thead>\n",
              "  <tbody>\n",
              "    <tr>\n",
              "      <th>0</th>\n",
              "      <td>5.1</td>\n",
              "      <td>3.5</td>\n",
              "      <td>1.4</td>\n",
              "      <td>0.2</td>\n",
              "      <td>Iris-setosa</td>\n",
              "    </tr>\n",
              "    <tr>\n",
              "      <th>1</th>\n",
              "      <td>4.9</td>\n",
              "      <td>3.0</td>\n",
              "      <td>1.4</td>\n",
              "      <td>0.2</td>\n",
              "      <td>Iris-setosa</td>\n",
              "    </tr>\n",
              "    <tr>\n",
              "      <th>2</th>\n",
              "      <td>4.7</td>\n",
              "      <td>3.2</td>\n",
              "      <td>1.3</td>\n",
              "      <td>0.2</td>\n",
              "      <td>Iris-setosa</td>\n",
              "    </tr>\n",
              "    <tr>\n",
              "      <th>3</th>\n",
              "      <td>4.6</td>\n",
              "      <td>3.1</td>\n",
              "      <td>1.5</td>\n",
              "      <td>0.2</td>\n",
              "      <td>Iris-setosa</td>\n",
              "    </tr>\n",
              "    <tr>\n",
              "      <th>4</th>\n",
              "      <td>5.0</td>\n",
              "      <td>3.6</td>\n",
              "      <td>1.4</td>\n",
              "      <td>0.2</td>\n",
              "      <td>Iris-setosa</td>\n",
              "    </tr>\n",
              "    <tr>\n",
              "      <th>...</th>\n",
              "      <td>...</td>\n",
              "      <td>...</td>\n",
              "      <td>...</td>\n",
              "      <td>...</td>\n",
              "      <td>...</td>\n",
              "    </tr>\n",
              "    <tr>\n",
              "      <th>145</th>\n",
              "      <td>6.7</td>\n",
              "      <td>3.0</td>\n",
              "      <td>5.2</td>\n",
              "      <td>2.3</td>\n",
              "      <td>Iris-virginica</td>\n",
              "    </tr>\n",
              "    <tr>\n",
              "      <th>146</th>\n",
              "      <td>6.3</td>\n",
              "      <td>2.5</td>\n",
              "      <td>5.0</td>\n",
              "      <td>1.9</td>\n",
              "      <td>Iris-virginica</td>\n",
              "    </tr>\n",
              "    <tr>\n",
              "      <th>147</th>\n",
              "      <td>6.5</td>\n",
              "      <td>3.0</td>\n",
              "      <td>5.2</td>\n",
              "      <td>2.0</td>\n",
              "      <td>Iris-virginica</td>\n",
              "    </tr>\n",
              "    <tr>\n",
              "      <th>148</th>\n",
              "      <td>6.2</td>\n",
              "      <td>3.4</td>\n",
              "      <td>5.4</td>\n",
              "      <td>2.3</td>\n",
              "      <td>Iris-virginica</td>\n",
              "    </tr>\n",
              "    <tr>\n",
              "      <th>149</th>\n",
              "      <td>5.9</td>\n",
              "      <td>3.0</td>\n",
              "      <td>5.1</td>\n",
              "      <td>1.8</td>\n",
              "      <td>Iris-virginica</td>\n",
              "    </tr>\n",
              "  </tbody>\n",
              "</table>\n",
              "<p>150 rows × 5 columns</p>\n",
              "</div>"
            ],
            "text/plain": [
              "     SepalLengthCm  SepalWidthCm  PetalLengthCm  PetalWidthCm         Species\n",
              "0              5.1           3.5            1.4           0.2     Iris-setosa\n",
              "1              4.9           3.0            1.4           0.2     Iris-setosa\n",
              "2              4.7           3.2            1.3           0.2     Iris-setosa\n",
              "3              4.6           3.1            1.5           0.2     Iris-setosa\n",
              "4              5.0           3.6            1.4           0.2     Iris-setosa\n",
              "..             ...           ...            ...           ...             ...\n",
              "145            6.7           3.0            5.2           2.3  Iris-virginica\n",
              "146            6.3           2.5            5.0           1.9  Iris-virginica\n",
              "147            6.5           3.0            5.2           2.0  Iris-virginica\n",
              "148            6.2           3.4            5.4           2.3  Iris-virginica\n",
              "149            5.9           3.0            5.1           1.8  Iris-virginica\n",
              "\n",
              "[150 rows x 5 columns]"
            ]
          },
          "metadata": {
            "tags": []
          },
          "execution_count": 186
        }
      ]
    },
    {
      "cell_type": "markdown",
      "metadata": {
        "id": "xZc3ROA1uwsi"
      },
      "source": [
        "5. ¿Para qué sirven `loc` e `iloc`? Crea algunos ejemplos."
      ]
    },
    {
      "cell_type": "code",
      "metadata": {
        "id": "o7t65DAn1P6H"
      },
      "source": [
        ""
      ],
      "execution_count": null,
      "outputs": []
    }
  ]
}